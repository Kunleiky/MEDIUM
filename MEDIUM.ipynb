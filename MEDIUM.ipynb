{
 "cells": [
  {
   "cell_type": "markdown",
   "metadata": {},
   "source": [
    "## THIS PROJECT IS A DETAILED ANALYSIS OF THE MEDIUM PUBLICATIONS CARRIED OUT BY IBK AND COMPLETED ON THE 25TH OCTOBER 2020"
   ]
  },
  {
   "cell_type": "code",
   "execution_count": 1,
   "metadata": {
    "ExecuteTime": {
     "end_time": "2020-10-25T20:26:20.871740Z",
     "start_time": "2020-10-25T20:25:35.495140Z"
    }
   },
   "outputs": [],
   "source": [
    "\n",
    "import pandas as pd\n",
    "import seaborn as sns\n",
    "import matplotlib.pyplot as plt"
   ]
  },
  {
   "cell_type": "code",
   "execution_count": 3,
   "metadata": {
    "ExecuteTime": {
     "end_time": "2020-10-25T20:28:23.012431Z",
     "start_time": "2020-10-25T20:28:22.516490Z"
    }
   },
   "outputs": [],
   "source": [
    "medium=pd.read_csv(r\"C:\\Users\\MY PC\\Desktop\\DATA SCIENCE PROJECTS\\MEDIUM_DATA\\medium_data.csv\")"
   ]
  },
  {
   "cell_type": "code",
   "execution_count": 4,
   "metadata": {
    "ExecuteTime": {
     "end_time": "2020-10-25T20:28:25.553164Z",
     "start_time": "2020-10-25T20:28:25.374883Z"
    }
   },
   "outputs": [
    {
     "data": {
      "text/html": [
       "<div>\n",
       "<style scoped>\n",
       "    .dataframe tbody tr th:only-of-type {\n",
       "        vertical-align: middle;\n",
       "    }\n",
       "\n",
       "    .dataframe tbody tr th {\n",
       "        vertical-align: top;\n",
       "    }\n",
       "\n",
       "    .dataframe thead th {\n",
       "        text-align: right;\n",
       "    }\n",
       "</style>\n",
       "<table border=\"1\" class=\"dataframe\">\n",
       "  <thead>\n",
       "    <tr style=\"text-align: right;\">\n",
       "      <th></th>\n",
       "      <th>id</th>\n",
       "      <th>url</th>\n",
       "      <th>title</th>\n",
       "      <th>subtitle</th>\n",
       "      <th>image</th>\n",
       "      <th>claps</th>\n",
       "      <th>responses</th>\n",
       "      <th>reading_time</th>\n",
       "      <th>publication</th>\n",
       "      <th>date</th>\n",
       "    </tr>\n",
       "  </thead>\n",
       "  <tbody>\n",
       "    <tr>\n",
       "      <th>0</th>\n",
       "      <td>1</td>\n",
       "      <td>https://towardsdatascience.com/a-beginners-gui...</td>\n",
       "      <td>A Beginner’s Guide to Word Embedding with Gens...</td>\n",
       "      <td>NaN</td>\n",
       "      <td>1.png</td>\n",
       "      <td>850</td>\n",
       "      <td>8</td>\n",
       "      <td>8</td>\n",
       "      <td>Towards Data Science</td>\n",
       "      <td>2019-05-30</td>\n",
       "    </tr>\n",
       "    <tr>\n",
       "      <th>1</th>\n",
       "      <td>2</td>\n",
       "      <td>https://towardsdatascience.com/hands-on-graph-...</td>\n",
       "      <td>Hands-on Graph Neural Networks with PyTorch &amp; ...</td>\n",
       "      <td>NaN</td>\n",
       "      <td>2.png</td>\n",
       "      <td>1100</td>\n",
       "      <td>11</td>\n",
       "      <td>9</td>\n",
       "      <td>Towards Data Science</td>\n",
       "      <td>2019-05-30</td>\n",
       "    </tr>\n",
       "    <tr>\n",
       "      <th>2</th>\n",
       "      <td>3</td>\n",
       "      <td>https://towardsdatascience.com/how-to-use-ggpl...</td>\n",
       "      <td>How to Use ggplot2 in Python</td>\n",
       "      <td>A Grammar of Graphics for Python</td>\n",
       "      <td>3.png</td>\n",
       "      <td>767</td>\n",
       "      <td>1</td>\n",
       "      <td>5</td>\n",
       "      <td>Towards Data Science</td>\n",
       "      <td>2019-05-30</td>\n",
       "    </tr>\n",
       "    <tr>\n",
       "      <th>3</th>\n",
       "      <td>4</td>\n",
       "      <td>https://towardsdatascience.com/databricks-how-...</td>\n",
       "      <td>Databricks: How to Save Files in CSV on Your L...</td>\n",
       "      <td>When I work on Python projects dealing…</td>\n",
       "      <td>4.jpeg</td>\n",
       "      <td>354</td>\n",
       "      <td>0</td>\n",
       "      <td>4</td>\n",
       "      <td>Towards Data Science</td>\n",
       "      <td>2019-05-30</td>\n",
       "    </tr>\n",
       "    <tr>\n",
       "      <th>4</th>\n",
       "      <td>5</td>\n",
       "      <td>https://towardsdatascience.com/a-step-by-step-...</td>\n",
       "      <td>A Step-by-Step Implementation of Gradient Desc...</td>\n",
       "      <td>One example of building neural…</td>\n",
       "      <td>5.jpeg</td>\n",
       "      <td>211</td>\n",
       "      <td>3</td>\n",
       "      <td>4</td>\n",
       "      <td>Towards Data Science</td>\n",
       "      <td>2019-05-30</td>\n",
       "    </tr>\n",
       "  </tbody>\n",
       "</table>\n",
       "</div>"
      ],
      "text/plain": [
       "   id                                                url  \\\n",
       "0   1  https://towardsdatascience.com/a-beginners-gui...   \n",
       "1   2  https://towardsdatascience.com/hands-on-graph-...   \n",
       "2   3  https://towardsdatascience.com/how-to-use-ggpl...   \n",
       "3   4  https://towardsdatascience.com/databricks-how-...   \n",
       "4   5  https://towardsdatascience.com/a-step-by-step-...   \n",
       "\n",
       "                                               title  \\\n",
       "0  A Beginner’s Guide to Word Embedding with Gens...   \n",
       "1  Hands-on Graph Neural Networks with PyTorch & ...   \n",
       "2                       How to Use ggplot2 in Python   \n",
       "3  Databricks: How to Save Files in CSV on Your L...   \n",
       "4  A Step-by-Step Implementation of Gradient Desc...   \n",
       "\n",
       "                                  subtitle   image  claps responses  \\\n",
       "0                                      NaN   1.png    850         8   \n",
       "1                                      NaN   2.png   1100        11   \n",
       "2         A Grammar of Graphics for Python   3.png    767         1   \n",
       "3  When I work on Python projects dealing…  4.jpeg    354         0   \n",
       "4          One example of building neural…  5.jpeg    211         3   \n",
       "\n",
       "   reading_time           publication        date  \n",
       "0             8  Towards Data Science  2019-05-30  \n",
       "1             9  Towards Data Science  2019-05-30  \n",
       "2             5  Towards Data Science  2019-05-30  \n",
       "3             4  Towards Data Science  2019-05-30  \n",
       "4             4  Towards Data Science  2019-05-30  "
      ]
     },
     "execution_count": 4,
     "metadata": {},
     "output_type": "execute_result"
    }
   ],
   "source": [
    "medium.head()"
   ]
  },
  {
   "cell_type": "markdown",
   "metadata": {},
   "source": [
    "## Top 5 medium publications by the total number of claps"
   ]
  },
  {
   "cell_type": "code",
   "execution_count": 36,
   "metadata": {
    "ExecuteTime": {
     "end_time": "2020-10-25T20:35:16.093833Z",
     "start_time": "2020-10-25T20:35:16.015703Z"
    }
   },
   "outputs": [],
   "source": [
    "x=medium.groupby('publication')[\"claps\"].sum().sort_values(ascending=False)[:5]"
   ]
  },
  {
   "cell_type": "code",
   "execution_count": 37,
   "metadata": {
    "ExecuteTime": {
     "end_time": "2020-10-25T20:35:21.425355Z",
     "start_time": "2020-10-25T20:35:21.394098Z"
    }
   },
   "outputs": [
    {
     "data": {
      "text/plain": [
       "publication\n",
       "The Startup                922651\n",
       "Towards Data Science       414386\n",
       "UX Collective              211413\n",
       "Better Marketing           200702\n",
       "The Writing Cooperative    150216\n",
       "Name: claps, dtype: int64"
      ]
     },
     "execution_count": 37,
     "metadata": {},
     "output_type": "execute_result"
    }
   ],
   "source": [
    "x"
   ]
  },
  {
   "cell_type": "code",
   "execution_count": 87,
   "metadata": {
    "ExecuteTime": {
     "end_time": "2020-10-25T21:06:46.411717Z",
     "start_time": "2020-10-25T21:06:45.052126Z"
    }
   },
   "outputs": [
    {
     "data": {
      "image/png": "[encoded data removed]",
      "text/plain": [
       "<Figure size 576x504 with 1 Axes>"
      ]
     },
     "metadata": {
      "needs_background": "light"
     },
     "output_type": "display_data"
    }
   ],
   "source": [
    "x.plot.bar(color='#821112',figsize=(8,7))\n",
    "plt.xlabel('No of claps',fontdict={'fontsize':12,'fontweight':'bold'})\n",
    "plt.ylabel('Publication',fontdict={'fontsize':12,'fontweight':'bold'})\n",
    "plt.title('Top 5 medium publication based on the total number of claps',fontdict={'fontsize':15,'fontweight':'bold'});"
   ]
  },
  {
   "cell_type": "code",
   "execution_count": 8,
   "metadata": {
    "ExecuteTime": {
     "end_time": "2020-10-25T20:28:30.962994Z",
     "start_time": "2020-10-25T20:28:30.931744Z"
    }
   },
   "outputs": [
    {
     "data": {
      "text/plain": [
       "Index(['id', 'url', 'title', 'subtitle', 'image', 'claps', 'responses',\n",
       "       'reading_time', 'publication', 'date'],\n",
       "      dtype='object')"
      ]
     },
     "execution_count": 8,
     "metadata": {},
     "output_type": "execute_result"
    }
   ],
   "source": [
    "medium.columns"
   ]
  },
  {
   "cell_type": "code",
   "execution_count": 9,
   "metadata": {
    "ExecuteTime": {
     "end_time": "2020-10-25T20:28:31.283927Z",
     "start_time": "2020-10-25T20:28:31.218829Z"
    }
   },
   "outputs": [
    {
     "data": {
      "text/html": [
       "<div>\n",
       "<style scoped>\n",
       "    .dataframe tbody tr th:only-of-type {\n",
       "        vertical-align: middle;\n",
       "    }\n",
       "\n",
       "    .dataframe tbody tr th {\n",
       "        vertical-align: top;\n",
       "    }\n",
       "\n",
       "    .dataframe thead th {\n",
       "        text-align: right;\n",
       "    }\n",
       "</style>\n",
       "<table border=\"1\" class=\"dataframe\">\n",
       "  <thead>\n",
       "    <tr style=\"text-align: right;\">\n",
       "      <th></th>\n",
       "      <th>url</th>\n",
       "      <th>title</th>\n",
       "      <th>subtitle</th>\n",
       "      <th>image</th>\n",
       "      <th>responses</th>\n",
       "      <th>publication</th>\n",
       "      <th>date</th>\n",
       "    </tr>\n",
       "  </thead>\n",
       "  <tbody>\n",
       "    <tr>\n",
       "      <th>0</th>\n",
       "      <td>https://towardsdatascience.com/a-beginners-gui...</td>\n",
       "      <td>A Beginner’s Guide to Word Embedding with Gens...</td>\n",
       "      <td>NaN</td>\n",
       "      <td>1.png</td>\n",
       "      <td>8</td>\n",
       "      <td>Towards Data Science</td>\n",
       "      <td>2019-05-30</td>\n",
       "    </tr>\n",
       "    <tr>\n",
       "      <th>1</th>\n",
       "      <td>https://towardsdatascience.com/hands-on-graph-...</td>\n",
       "      <td>Hands-on Graph Neural Networks with PyTorch &amp; ...</td>\n",
       "      <td>NaN</td>\n",
       "      <td>2.png</td>\n",
       "      <td>11</td>\n",
       "      <td>Towards Data Science</td>\n",
       "      <td>2019-05-30</td>\n",
       "    </tr>\n",
       "    <tr>\n",
       "      <th>2</th>\n",
       "      <td>https://towardsdatascience.com/how-to-use-ggpl...</td>\n",
       "      <td>How to Use ggplot2 in Python</td>\n",
       "      <td>A Grammar of Graphics for Python</td>\n",
       "      <td>3.png</td>\n",
       "      <td>1</td>\n",
       "      <td>Towards Data Science</td>\n",
       "      <td>2019-05-30</td>\n",
       "    </tr>\n",
       "    <tr>\n",
       "      <th>3</th>\n",
       "      <td>https://towardsdatascience.com/databricks-how-...</td>\n",
       "      <td>Databricks: How to Save Files in CSV on Your L...</td>\n",
       "      <td>When I work on Python projects dealing…</td>\n",
       "      <td>4.jpeg</td>\n",
       "      <td>0</td>\n",
       "      <td>Towards Data Science</td>\n",
       "      <td>2019-05-30</td>\n",
       "    </tr>\n",
       "    <tr>\n",
       "      <th>4</th>\n",
       "      <td>https://towardsdatascience.com/a-step-by-step-...</td>\n",
       "      <td>A Step-by-Step Implementation of Gradient Desc...</td>\n",
       "      <td>One example of building neural…</td>\n",
       "      <td>5.jpeg</td>\n",
       "      <td>3</td>\n",
       "      <td>Towards Data Science</td>\n",
       "      <td>2019-05-30</td>\n",
       "    </tr>\n",
       "    <tr>\n",
       "      <th>...</th>\n",
       "      <td>...</td>\n",
       "      <td>...</td>\n",
       "      <td>...</td>\n",
       "      <td>...</td>\n",
       "      <td>...</td>\n",
       "      <td>...</td>\n",
       "      <td>...</td>\n",
       "    </tr>\n",
       "    <tr>\n",
       "      <th>6503</th>\n",
       "      <td>https://medium.com/better-marketing/we-vs-i-ho...</td>\n",
       "      <td>“We” vs “I” — How Should You Talk About Yourse...</td>\n",
       "      <td>Basic copywriting choices with a big…</td>\n",
       "      <td>6504.jpg</td>\n",
       "      <td>6</td>\n",
       "      <td>Better Marketing</td>\n",
       "      <td>2019-12-05</td>\n",
       "    </tr>\n",
       "    <tr>\n",
       "      <th>6504</th>\n",
       "      <td>https://medium.com/better-marketing/how-donald...</td>\n",
       "      <td>How Donald Trump Markets Himself</td>\n",
       "      <td>Lessons from who might be the most popular bra...</td>\n",
       "      <td>6505.jpeg</td>\n",
       "      <td>1</td>\n",
       "      <td>Better Marketing</td>\n",
       "      <td>2019-12-05</td>\n",
       "    </tr>\n",
       "    <tr>\n",
       "      <th>6505</th>\n",
       "      <td>https://medium.com/better-marketing/content-an...</td>\n",
       "      <td>Content and Marketing Beyond Mass Consumption</td>\n",
       "      <td>How to acquire customers without wasting money...</td>\n",
       "      <td>6506.jpg</td>\n",
       "      <td>1</td>\n",
       "      <td>Better Marketing</td>\n",
       "      <td>2019-12-05</td>\n",
       "    </tr>\n",
       "    <tr>\n",
       "      <th>6506</th>\n",
       "      <td>https://medium.com/better-marketing/5-question...</td>\n",
       "      <td>5 Questions All Copywriters Should Ask Clients...</td>\n",
       "      <td>Save time and effort by…</td>\n",
       "      <td>6507.jpg</td>\n",
       "      <td>2</td>\n",
       "      <td>Better Marketing</td>\n",
       "      <td>2019-12-05</td>\n",
       "    </tr>\n",
       "    <tr>\n",
       "      <th>6507</th>\n",
       "      <td>https://medium.com/better-marketing/how-to-wri...</td>\n",
       "      <td>How To Write a Good Business Blog Post</td>\n",
       "      <td>An A-to-Z guide for non-writers</td>\n",
       "      <td>6508.jpg</td>\n",
       "      <td>0</td>\n",
       "      <td>Better Marketing</td>\n",
       "      <td>2019-12-05</td>\n",
       "    </tr>\n",
       "  </tbody>\n",
       "</table>\n",
       "<p>6508 rows × 7 columns</p>\n",
       "</div>"
      ],
      "text/plain": [
       "                                                    url  \\\n",
       "0     https://towardsdatascience.com/a-beginners-gui...   \n",
       "1     https://towardsdatascience.com/hands-on-graph-...   \n",
       "2     https://towardsdatascience.com/how-to-use-ggpl...   \n",
       "3     https://towardsdatascience.com/databricks-how-...   \n",
       "4     https://towardsdatascience.com/a-step-by-step-...   \n",
       "...                                                 ...   \n",
       "6503  https://medium.com/better-marketing/we-vs-i-ho...   \n",
       "6504  https://medium.com/better-marketing/how-donald...   \n",
       "6505  https://medium.com/better-marketing/content-an...   \n",
       "6506  https://medium.com/better-marketing/5-question...   \n",
       "6507  https://medium.com/better-marketing/how-to-wri...   \n",
       "\n",
       "                                                  title  \\\n",
       "0     A Beginner’s Guide to Word Embedding with Gens...   \n",
       "1     Hands-on Graph Neural Networks with PyTorch & ...   \n",
       "2                          How to Use ggplot2 in Python   \n",
       "3     Databricks: How to Save Files in CSV on Your L...   \n",
       "4     A Step-by-Step Implementation of Gradient Desc...   \n",
       "...                                                 ...   \n",
       "6503  “We” vs “I” — How Should You Talk About Yourse...   \n",
       "6504                   How Donald Trump Markets Himself   \n",
       "6505      Content and Marketing Beyond Mass Consumption   \n",
       "6506  5 Questions All Copywriters Should Ask Clients...   \n",
       "6507             How To Write a Good Business Blog Post   \n",
       "\n",
       "                                               subtitle      image responses  \\\n",
       "0                                                   NaN      1.png         8   \n",
       "1                                                   NaN      2.png        11   \n",
       "2                      A Grammar of Graphics for Python      3.png         1   \n",
       "3               When I work on Python projects dealing…     4.jpeg         0   \n",
       "4                       One example of building neural…     5.jpeg         3   \n",
       "...                                                 ...        ...       ...   \n",
       "6503              Basic copywriting choices with a big…   6504.jpg         6   \n",
       "6504  Lessons from who might be the most popular bra...  6505.jpeg         1   \n",
       "6505  How to acquire customers without wasting money...   6506.jpg         1   \n",
       "6506                           Save time and effort by…   6507.jpg         2   \n",
       "6507                    An A-to-Z guide for non-writers   6508.jpg         0   \n",
       "\n",
       "               publication        date  \n",
       "0     Towards Data Science  2019-05-30  \n",
       "1     Towards Data Science  2019-05-30  \n",
       "2     Towards Data Science  2019-05-30  \n",
       "3     Towards Data Science  2019-05-30  \n",
       "4     Towards Data Science  2019-05-30  \n",
       "...                    ...         ...  \n",
       "6503      Better Marketing  2019-12-05  \n",
       "6504      Better Marketing  2019-12-05  \n",
       "6505      Better Marketing  2019-12-05  \n",
       "6506      Better Marketing  2019-12-05  \n",
       "6507      Better Marketing  2019-12-05  \n",
       "\n",
       "[6508 rows x 7 columns]"
      ]
     },
     "execution_count": 9,
     "metadata": {},
     "output_type": "execute_result"
    }
   ],
   "source": [
    "medium.select_dtypes(include='object')"
   ]
  },
  {
   "cell_type": "code",
   "execution_count": 10,
   "metadata": {
    "ExecuteTime": {
     "end_time": "2020-10-25T20:28:31.579765Z",
     "start_time": "2020-10-25T20:28:31.546761Z"
    }
   },
   "outputs": [
    {
     "data": {
      "text/plain": [
       "id               int64\n",
       "url             object\n",
       "title           object\n",
       "subtitle        object\n",
       "image           object\n",
       "claps            int64\n",
       "responses       object\n",
       "reading_time     int64\n",
       "publication     object\n",
       "date            object\n",
       "dtype: object"
      ]
     },
     "execution_count": 10,
     "metadata": {},
     "output_type": "execute_result"
    }
   ],
   "source": [
    "medium.dtypes"
   ]
  },
  {
   "cell_type": "code",
   "execution_count": 11,
   "metadata": {
    "ExecuteTime": {
     "end_time": "2020-10-25T20:28:31.937880Z",
     "start_time": "2020-10-25T20:28:31.781821Z"
    }
   },
   "outputs": [],
   "source": [
    "medium['date']=pd.to_datetime(medium['date'])"
   ]
  },
  {
   "cell_type": "code",
   "execution_count": 12,
   "metadata": {
    "ExecuteTime": {
     "end_time": "2020-10-25T20:28:32.260151Z",
     "start_time": "2020-10-25T20:28:32.241123Z"
    }
   },
   "outputs": [
    {
     "data": {
      "text/plain": [
       "id                       int64\n",
       "url                     object\n",
       "title                   object\n",
       "subtitle                object\n",
       "image                   object\n",
       "claps                    int64\n",
       "responses               object\n",
       "reading_time             int64\n",
       "publication             object\n",
       "date            datetime64[ns]\n",
       "dtype: object"
      ]
     },
     "execution_count": 12,
     "metadata": {},
     "output_type": "execute_result"
    }
   ],
   "source": [
    "medium.dtypes"
   ]
  },
  {
   "cell_type": "code",
   "execution_count": 13,
   "metadata": {
    "ExecuteTime": {
     "end_time": "2020-10-25T20:28:32.525950Z",
     "start_time": "2020-10-25T20:28:32.481951Z"
    }
   },
   "outputs": [
    {
     "data": {
      "text/plain": [
       "38000"
      ]
     },
     "execution_count": 13,
     "metadata": {},
     "output_type": "execute_result"
    }
   ],
   "source": [
    "medium['claps'].max()"
   ]
  },
  {
   "cell_type": "code",
   "execution_count": 14,
   "metadata": {
    "ExecuteTime": {
     "end_time": "2020-10-25T20:28:33.273818Z",
     "start_time": "2020-10-25T20:28:32.794058Z"
    }
   },
   "outputs": [],
   "source": [
    "df=medium[medium.claps==38000]"
   ]
  },
  {
   "cell_type": "code",
   "execution_count": 15,
   "metadata": {
    "ExecuteTime": {
     "end_time": "2020-10-25T20:28:33.872016Z",
     "start_time": "2020-10-25T20:28:33.801478Z"
    }
   },
   "outputs": [
    {
     "data": {
      "text/html": [
       "<div>\n",
       "<style scoped>\n",
       "    .dataframe tbody tr th:only-of-type {\n",
       "        vertical-align: middle;\n",
       "    }\n",
       "\n",
       "    .dataframe tbody tr th {\n",
       "        vertical-align: top;\n",
       "    }\n",
       "\n",
       "    .dataframe thead th {\n",
       "        text-align: right;\n",
       "    }\n",
       "</style>\n",
       "<table border=\"1\" class=\"dataframe\">\n",
       "  <thead>\n",
       "    <tr style=\"text-align: right;\">\n",
       "      <th></th>\n",
       "      <th>id</th>\n",
       "      <th>url</th>\n",
       "      <th>title</th>\n",
       "      <th>subtitle</th>\n",
       "      <th>image</th>\n",
       "      <th>claps</th>\n",
       "      <th>responses</th>\n",
       "      <th>reading_time</th>\n",
       "      <th>publication</th>\n",
       "      <th>date</th>\n",
       "    </tr>\n",
       "  </thead>\n",
       "  <tbody>\n",
       "    <tr>\n",
       "      <th>4552</th>\n",
       "      <td>4553</td>\n",
       "      <td>https://medium.com/swlh/i-have-15-ideas-to-cha...</td>\n",
       "      <td>I Have 15 ideas To Change Your Life. Do you Ha...</td>\n",
       "      <td>NaN</td>\n",
       "      <td>4553.png</td>\n",
       "      <td>38000</td>\n",
       "      <td>170</td>\n",
       "      <td>5</td>\n",
       "      <td>The Startup</td>\n",
       "      <td>2019-05-20</td>\n",
       "    </tr>\n",
       "  </tbody>\n",
       "</table>\n",
       "</div>"
      ],
      "text/plain": [
       "        id                                                url  \\\n",
       "4552  4553  https://medium.com/swlh/i-have-15-ideas-to-cha...   \n",
       "\n",
       "                                                  title subtitle     image  \\\n",
       "4552  I Have 15 ideas To Change Your Life. Do you Ha...      NaN  4553.png   \n",
       "\n",
       "      claps responses  reading_time  publication       date  \n",
       "4552  38000       170             5  The Startup 2019-05-20  "
      ]
     },
     "execution_count": 15,
     "metadata": {},
     "output_type": "execute_result"
    }
   ],
   "source": [
    "df"
   ]
  },
  {
   "cell_type": "code",
   "execution_count": 16,
   "metadata": {
    "ExecuteTime": {
     "end_time": "2020-10-25T20:28:34.367791Z",
     "start_time": "2020-10-25T20:28:34.277784Z"
    }
   },
   "outputs": [],
   "source": [
    "dfabove3000claps=medium.query('claps<=25000')"
   ]
  },
  {
   "cell_type": "code",
   "execution_count": 17,
   "metadata": {
    "ExecuteTime": {
     "end_time": "2020-10-25T20:28:34.869236Z",
     "start_time": "2020-10-25T20:28:34.819228Z"
    }
   },
   "outputs": [
    {
     "data": {
      "text/html": [
       "<div>\n",
       "<style scoped>\n",
       "    .dataframe tbody tr th:only-of-type {\n",
       "        vertical-align: middle;\n",
       "    }\n",
       "\n",
       "    .dataframe tbody tr th {\n",
       "        vertical-align: top;\n",
       "    }\n",
       "\n",
       "    .dataframe thead th {\n",
       "        text-align: right;\n",
       "    }\n",
       "</style>\n",
       "<table border=\"1\" class=\"dataframe\">\n",
       "  <thead>\n",
       "    <tr style=\"text-align: right;\">\n",
       "      <th></th>\n",
       "      <th>id</th>\n",
       "      <th>url</th>\n",
       "      <th>title</th>\n",
       "      <th>subtitle</th>\n",
       "      <th>image</th>\n",
       "      <th>claps</th>\n",
       "      <th>responses</th>\n",
       "      <th>reading_time</th>\n",
       "      <th>publication</th>\n",
       "      <th>date</th>\n",
       "    </tr>\n",
       "  </thead>\n",
       "  <tbody>\n",
       "    <tr>\n",
       "      <th>0</th>\n",
       "      <td>1</td>\n",
       "      <td>https://towardsdatascience.com/a-beginners-gui...</td>\n",
       "      <td>A Beginner’s Guide to Word Embedding with Gens...</td>\n",
       "      <td>NaN</td>\n",
       "      <td>1.png</td>\n",
       "      <td>850</td>\n",
       "      <td>8</td>\n",
       "      <td>8</td>\n",
       "      <td>Towards Data Science</td>\n",
       "      <td>2019-05-30</td>\n",
       "    </tr>\n",
       "    <tr>\n",
       "      <th>1</th>\n",
       "      <td>2</td>\n",
       "      <td>https://towardsdatascience.com/hands-on-graph-...</td>\n",
       "      <td>Hands-on Graph Neural Networks with PyTorch &amp; ...</td>\n",
       "      <td>NaN</td>\n",
       "      <td>2.png</td>\n",
       "      <td>1100</td>\n",
       "      <td>11</td>\n",
       "      <td>9</td>\n",
       "      <td>Towards Data Science</td>\n",
       "      <td>2019-05-30</td>\n",
       "    </tr>\n",
       "    <tr>\n",
       "      <th>2</th>\n",
       "      <td>3</td>\n",
       "      <td>https://towardsdatascience.com/how-to-use-ggpl...</td>\n",
       "      <td>How to Use ggplot2 in Python</td>\n",
       "      <td>A Grammar of Graphics for Python</td>\n",
       "      <td>3.png</td>\n",
       "      <td>767</td>\n",
       "      <td>1</td>\n",
       "      <td>5</td>\n",
       "      <td>Towards Data Science</td>\n",
       "      <td>2019-05-30</td>\n",
       "    </tr>\n",
       "  </tbody>\n",
       "</table>\n",
       "</div>"
      ],
      "text/plain": [
       "   id                                                url  \\\n",
       "0   1  https://towardsdatascience.com/a-beginners-gui...   \n",
       "1   2  https://towardsdatascience.com/hands-on-graph-...   \n",
       "2   3  https://towardsdatascience.com/how-to-use-ggpl...   \n",
       "\n",
       "                                               title  \\\n",
       "0  A Beginner’s Guide to Word Embedding with Gens...   \n",
       "1  Hands-on Graph Neural Networks with PyTorch & ...   \n",
       "2                       How to Use ggplot2 in Python   \n",
       "\n",
       "                           subtitle  image  claps responses  reading_time  \\\n",
       "0                               NaN  1.png    850         8             8   \n",
       "1                               NaN  2.png   1100        11             9   \n",
       "2  A Grammar of Graphics for Python  3.png    767         1             5   \n",
       "\n",
       "            publication       date  \n",
       "0  Towards Data Science 2019-05-30  \n",
       "1  Towards Data Science 2019-05-30  \n",
       "2  Towards Data Science 2019-05-30  "
      ]
     },
     "execution_count": 17,
     "metadata": {},
     "output_type": "execute_result"
    }
   ],
   "source": [
    "dfabove3000claps.head(3)"
   ]
  },
  {
   "cell_type": "code",
   "execution_count": 18,
   "metadata": {
    "ExecuteTime": {
     "end_time": "2020-10-25T20:28:35.354395Z",
     "start_time": "2020-10-25T20:28:35.334392Z"
    }
   },
   "outputs": [
    {
     "data": {
      "text/plain": [
       "6507"
      ]
     },
     "execution_count": 18,
     "metadata": {},
     "output_type": "execute_result"
    }
   ],
   "source": [
    "len(dfabove3000claps)"
   ]
  },
  {
   "cell_type": "code",
   "execution_count": 19,
   "metadata": {
    "ExecuteTime": {
     "end_time": "2020-10-25T20:28:35.805157Z",
     "start_time": "2020-10-25T20:28:35.785011Z"
    }
   },
   "outputs": [
    {
     "data": {
      "text/plain": [
       "6508"
      ]
     },
     "execution_count": 19,
     "metadata": {},
     "output_type": "execute_result"
    }
   ],
   "source": [
    "len(medium)"
   ]
  },
  {
   "cell_type": "code",
   "execution_count": 20,
   "metadata": {
    "ExecuteTime": {
     "end_time": "2020-10-25T20:28:36.319723Z",
     "start_time": "2020-10-25T20:28:36.289718Z"
    }
   },
   "outputs": [
    {
     "data": {
      "text/plain": [
       "array(['Towards Data Science', 'UX Collective', 'The Startup',\n",
       "       'The Writing Cooperative', 'Data Driven Investor',\n",
       "       'Better Marketing', 'Better Humans'], dtype=object)"
      ]
     },
     "execution_count": 20,
     "metadata": {},
     "output_type": "execute_result"
    }
   ],
   "source": [
    "medium['publication'].unique()"
   ]
  },
  {
   "cell_type": "code",
   "execution_count": 67,
   "metadata": {
    "ExecuteTime": {
     "end_time": "2020-10-25T20:53:09.111387Z",
     "start_time": "2020-10-25T20:53:09.082342Z"
    }
   },
   "outputs": [],
   "source": [
    "z=medium['publication'].value_counts(sort=True)"
   ]
  },
  {
   "cell_type": "code",
   "execution_count": 69,
   "metadata": {
    "ExecuteTime": {
     "end_time": "2020-10-25T20:53:33.683088Z",
     "start_time": "2020-10-25T20:53:33.624517Z"
    }
   },
   "outputs": [
    {
     "data": {
      "text/plain": [
       "The Startup                3041\n",
       "Towards Data Science       1461\n",
       "Data Driven Investor        778\n",
       "UX Collective               555\n",
       "The Writing Cooperative     403\n",
       "Better Marketing            242\n",
       "Better Humans                28\n",
       "Name: publication, dtype: int64"
      ]
     },
     "execution_count": 69,
     "metadata": {},
     "output_type": "execute_result"
    }
   ],
   "source": [
    "z"
   ]
  },
  {
   "cell_type": "code",
   "execution_count": 94,
   "metadata": {
    "ExecuteTime": {
     "end_time": "2020-10-25T21:18:28.621278Z",
     "start_time": "2020-10-25T21:18:27.780771Z"
    }
   },
   "outputs": [
    {
     "data": {
      "image/png": "[encoded data removed]",
      "text/plain": [
       "<Figure size 720x360 with 1 Axes>"
      ]
     },
     "metadata": {
      "needs_background": "light"
     },
     "output_type": "display_data"
    }
   ],
   "source": [
    "z.plot(kind='bar',figsize=(10,5),color='lime',fontsize=15,title='A chart showing the number of articles in each publication',);\n"
   ]
  },
  {
   "cell_type": "code",
   "execution_count": 24,
   "metadata": {
    "ExecuteTime": {
     "end_time": "2020-10-25T20:28:38.849357Z",
     "start_time": "2020-10-25T20:28:38.829356Z"
    }
   },
   "outputs": [
    {
     "data": {
      "text/plain": [
       "id                       int64\n",
       "url                     object\n",
       "title                   object\n",
       "subtitle                object\n",
       "image                   object\n",
       "claps                    int64\n",
       "responses               object\n",
       "reading_time             int64\n",
       "publication             object\n",
       "date            datetime64[ns]\n",
       "dtype: object"
      ]
     },
     "execution_count": 24,
     "metadata": {},
     "output_type": "execute_result"
    }
   ],
   "source": [
    "medium.dtypes"
   ]
  },
  {
   "cell_type": "code",
   "execution_count": 26,
   "metadata": {
    "ExecuteTime": {
     "end_time": "2020-10-25T20:28:40.492796Z",
     "start_time": "2020-10-25T20:28:40.446036Z"
    }
   },
   "outputs": [
    {
     "data": {
      "text/plain": [
       "0        8\n",
       "1       11\n",
       "2        1\n",
       "3        0\n",
       "4        3\n",
       "        ..\n",
       "6503     6\n",
       "6504     1\n",
       "6505     1\n",
       "6506     2\n",
       "6507     0\n",
       "Name: responses, Length: 6508, dtype: object"
      ]
     },
     "execution_count": 26,
     "metadata": {},
     "output_type": "execute_result"
    }
   ],
   "source": [
    "medium['responses'].replace(\"Read\",0)"
   ]
  },
  {
   "cell_type": "code",
   "execution_count": 27,
   "metadata": {
    "ExecuteTime": {
     "end_time": "2020-10-25T20:28:40.968416Z",
     "start_time": "2020-10-25T20:28:40.908408Z"
    }
   },
   "outputs": [
    {
     "data": {
      "text/html": [
       "<div>\n",
       "<style scoped>\n",
       "    .dataframe tbody tr th:only-of-type {\n",
       "        vertical-align: middle;\n",
       "    }\n",
       "\n",
       "    .dataframe tbody tr th {\n",
       "        vertical-align: top;\n",
       "    }\n",
       "\n",
       "    .dataframe thead th {\n",
       "        text-align: right;\n",
       "    }\n",
       "</style>\n",
       "<table border=\"1\" class=\"dataframe\">\n",
       "  <thead>\n",
       "    <tr style=\"text-align: right;\">\n",
       "      <th></th>\n",
       "      <th>id</th>\n",
       "      <th>url</th>\n",
       "      <th>title</th>\n",
       "      <th>subtitle</th>\n",
       "      <th>image</th>\n",
       "      <th>claps</th>\n",
       "      <th>responses</th>\n",
       "      <th>reading_time</th>\n",
       "      <th>publication</th>\n",
       "      <th>date</th>\n",
       "    </tr>\n",
       "  </thead>\n",
       "  <tbody>\n",
       "    <tr>\n",
       "      <th>3977</th>\n",
       "      <td>3978</td>\n",
       "      <td>https://medium.com/datadriveninvestor/what-do-...</td>\n",
       "      <td>What do you think of the Open Group’s Data Sci...</td>\n",
       "      <td>NaN</td>\n",
       "      <td>3978.jpg</td>\n",
       "      <td>73</td>\n",
       "      <td>Read</td>\n",
       "      <td>3</td>\n",
       "      <td>Data Driven Investor</td>\n",
       "      <td>2019-05-24</td>\n",
       "    </tr>\n",
       "    <tr>\n",
       "      <th>6392</th>\n",
       "      <td>6393</td>\n",
       "      <td>https://uxdesign.cc/please-please-please-tell-...</td>\n",
       "      <td>UX doesn’t discriminate, it targets behaviours</td>\n",
       "      <td>NaN</td>\n",
       "      <td>NaN</td>\n",
       "      <td>74</td>\n",
       "      <td>Read</td>\n",
       "      <td>5</td>\n",
       "      <td>UX Collective</td>\n",
       "      <td>2019-12-05</td>\n",
       "    </tr>\n",
       "  </tbody>\n",
       "</table>\n",
       "</div>"
      ],
      "text/plain": [
       "        id                                                url  \\\n",
       "3977  3978  https://medium.com/datadriveninvestor/what-do-...   \n",
       "6392  6393  https://uxdesign.cc/please-please-please-tell-...   \n",
       "\n",
       "                                                  title subtitle     image  \\\n",
       "3977  What do you think of the Open Group’s Data Sci...      NaN  3978.jpg   \n",
       "6392     UX doesn’t discriminate, it targets behaviours      NaN       NaN   \n",
       "\n",
       "      claps responses  reading_time           publication       date  \n",
       "3977     73      Read             3  Data Driven Investor 2019-05-24  \n",
       "6392     74      Read             5         UX Collective 2019-12-05  "
      ]
     },
     "execution_count": 27,
     "metadata": {},
     "output_type": "execute_result"
    }
   ],
   "source": [
    "medium.query(\"responses=='Read'\")"
   ]
  },
  {
   "cell_type": "markdown",
   "metadata": {},
   "source": [
    "## Top 5 Medium publications by the total reading minutes"
   ]
  },
  {
   "cell_type": "code",
   "execution_count": 90,
   "metadata": {
    "ExecuteTime": {
     "end_time": "2020-10-25T21:12:36.164783Z",
     "start_time": "2020-10-25T21:12:34.773917Z"
    }
   },
   "outputs": [
    {
     "data": {
      "image/png": "[encoded data removed]",
      "text/plain": [
       "<Figure size 720x864 with 1 Axes>"
      ]
     },
     "metadata": {},
     "output_type": "display_data"
    }
   ],
   "source": [
    "medium.groupby('publication')['reading_time'].sum().sort_values(ascending=False)[:5].plot.pie(figsize=(10,12),colors=['tomato','green','crimson','#452276','magenta'],autopct='%1.1f%%')\n",
    "plt.title('Medium puublications by the total number of reading minutes',fontdict={'fontsize':15,'fontweight':'bold'});"
   ]
  }
 ],
 "metadata": {
  "hide_input": false,
  "kernelspec": {
   "display_name": "Python 3",
   "language": "python",
   "name": "python3"
  },
  "language_info": {
   "codemirror_mode": {
    "name": "ipython",
    "version": 3
   },
   "file_extension": ".py",
   "mimetype": "text/x-python",
   "name": "python",
   "nbconvert_exporter": "python",
   "pygments_lexer": "ipython3",
   "version": "3.7.6"
  },
  "varInspector": {
   "cols": {
    "lenName": 16,
    "lenType": 16,
    "lenVar": 40
   },
   "kernels_config": {
    "python": {
     "delete_cmd_postfix": "",
     "delete_cmd_prefix": "del ",
     "library": "var_list.py",
     "varRefreshCmd": "print(var_dic_list())"
    },
    "r": {
     "delete_cmd_postfix": ") ",
     "delete_cmd_prefix": "rm(",
     "library": "var_list.r",
     "varRefreshCmd": "cat(var_dic_list()) "
    }
   },
   "types_to_exclude": [
    "module",
    "function",
    "builtin_function_or_method",
    "instance",
    "_Feature"
   ],
   "window_display": false
  }
 },
 "nbformat": 4,
 "nbformat_minor": 4
}
