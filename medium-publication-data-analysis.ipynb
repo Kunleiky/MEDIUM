{
 "cells": [
  {
   "cell_type": "markdown",
   "id": "3ff35f2a",
   "metadata": {
    "papermill": {
     "duration": 0.009933,
     "end_time": "2024-03-02T09:21:05.300738",
     "exception": false,
     "start_time": "2024-03-02T09:21:05.290805",
     "status": "completed"
    },
    "tags": []
   },
   "source": [
    "# THIS PROJECT IS A DETAILED ANALYSIS OF THE MEDIUM PUBLICATIONS"
   ]
  },
  {
   "cell_type": "code",
   "execution_count": 1,
   "id": "664b2fa4",
   "metadata": {
    "execution": {
     "iopub.execute_input": "2024-03-02T09:21:05.320808Z",
     "iopub.status.busy": "2024-03-02T09:21:05.319980Z",
     "iopub.status.idle": "2024-03-02T09:21:08.293595Z",
     "shell.execute_reply": "2024-03-02T09:21:08.292258Z"
    },
    "papermill": {
     "duration": 2.989141,
     "end_time": "2024-03-02T09:21:08.298756",
     "exception": false,
     "start_time": "2024-03-02T09:21:05.309615",
     "status": "completed"
    },
    "tags": []
   },
   "outputs": [],
   "source": [
    "import numpy as np \n",
    "import pandas as pd \n",
    "import matplotlib.pyplot as plt\n",
    "%matplotlib inline\n",
    "import seaborn as sns"
   ]
  },
  {
   "cell_type": "code",
   "execution_count": 2,
   "id": "24a9e915",
   "metadata": {
    "execution": {
     "iopub.execute_input": "2024-03-02T09:21:08.321267Z",
     "iopub.status.busy": "2024-03-02T09:21:08.320647Z",
     "iopub.status.idle": "2024-03-02T09:21:08.419253Z",
     "shell.execute_reply": "2024-03-02T09:21:08.417913Z"
    },
    "papermill": {
     "duration": 0.112292,
     "end_time": "2024-03-02T09:21:08.422406",
     "exception": false,
     "start_time": "2024-03-02T09:21:08.310114",
     "status": "completed"
    },
    "tags": []
   },
   "outputs": [],
   "source": [
    "medium = pd.read_csv(\"/kaggle/input/medium-articles-dataset/medium_data.csv\")"
   ]
  },
  {
   "cell_type": "code",
   "execution_count": 3,
   "id": "3792e8e9",
   "metadata": {
    "execution": {
     "iopub.execute_input": "2024-03-02T09:21:08.445569Z",
     "iopub.status.busy": "2024-03-02T09:21:08.444502Z",
     "iopub.status.idle": "2024-03-02T09:21:08.456001Z",
     "shell.execute_reply": "2024-03-02T09:21:08.454205Z"
    },
    "papermill": {
     "duration": 0.026115,
     "end_time": "2024-03-02T09:21:08.458695",
     "exception": false,
     "start_time": "2024-03-02T09:21:08.432580",
     "status": "completed"
    },
    "tags": []
   },
   "outputs": [
    {
     "data": {
      "text/plain": [
       "(6508, 10)"
      ]
     },
     "execution_count": 3,
     "metadata": {},
     "output_type": "execute_result"
    }
   ],
   "source": [
    "medium.shape"
   ]
  },
  {
   "cell_type": "code",
   "execution_count": 4,
   "id": "d6f6e865",
   "metadata": {
    "execution": {
     "iopub.execute_input": "2024-03-02T09:21:08.481658Z",
     "iopub.status.busy": "2024-03-02T09:21:08.481084Z",
     "iopub.status.idle": "2024-03-02T09:21:08.514112Z",
     "shell.execute_reply": "2024-03-02T09:21:08.513087Z"
    },
    "papermill": {
     "duration": 0.049159,
     "end_time": "2024-03-02T09:21:08.517130",
     "exception": false,
     "start_time": "2024-03-02T09:21:08.467971",
     "status": "completed"
    },
    "tags": []
   },
   "outputs": [
    {
     "data": {
      "text/html": [
       "<div>\n",
       "<style scoped>\n",
       "    .dataframe tbody tr th:only-of-type {\n",
       "        vertical-align: middle;\n",
       "    }\n",
       "\n",
       "    .dataframe tbody tr th {\n",
       "        vertical-align: top;\n",
       "    }\n",
       "\n",
       "    .dataframe thead th {\n",
       "        text-align: right;\n",
       "    }\n",
       "</style>\n",
       "<table border=\"1\" class=\"dataframe\">\n",
       "  <thead>\n",
       "    <tr style=\"text-align: right;\">\n",
       "      <th></th>\n",
       "      <th>id</th>\n",
       "      <th>url</th>\n",
       "      <th>title</th>\n",
       "      <th>subtitle</th>\n",
       "      <th>image</th>\n",
       "      <th>claps</th>\n",
       "      <th>responses</th>\n",
       "      <th>reading_time</th>\n",
       "      <th>publication</th>\n",
       "      <th>date</th>\n",
       "    </tr>\n",
       "  </thead>\n",
       "  <tbody>\n",
       "    <tr>\n",
       "      <th>0</th>\n",
       "      <td>1</td>\n",
       "      <td>https://towardsdatascience.com/a-beginners-gui...</td>\n",
       "      <td>A Beginner’s Guide to Word Embedding with Gens...</td>\n",
       "      <td>NaN</td>\n",
       "      <td>1.png</td>\n",
       "      <td>850</td>\n",
       "      <td>8</td>\n",
       "      <td>8</td>\n",
       "      <td>Towards Data Science</td>\n",
       "      <td>2019-05-30</td>\n",
       "    </tr>\n",
       "    <tr>\n",
       "      <th>1</th>\n",
       "      <td>2</td>\n",
       "      <td>https://towardsdatascience.com/hands-on-graph-...</td>\n",
       "      <td>Hands-on Graph Neural Networks with PyTorch &amp; ...</td>\n",
       "      <td>NaN</td>\n",
       "      <td>2.png</td>\n",
       "      <td>1100</td>\n",
       "      <td>11</td>\n",
       "      <td>9</td>\n",
       "      <td>Towards Data Science</td>\n",
       "      <td>2019-05-30</td>\n",
       "    </tr>\n",
       "    <tr>\n",
       "      <th>2</th>\n",
       "      <td>3</td>\n",
       "      <td>https://towardsdatascience.com/how-to-use-ggpl...</td>\n",
       "      <td>How to Use ggplot2 in Python</td>\n",
       "      <td>A Grammar of Graphics for Python</td>\n",
       "      <td>3.png</td>\n",
       "      <td>767</td>\n",
       "      <td>1</td>\n",
       "      <td>5</td>\n",
       "      <td>Towards Data Science</td>\n",
       "      <td>2019-05-30</td>\n",
       "    </tr>\n",
       "    <tr>\n",
       "      <th>3</th>\n",
       "      <td>4</td>\n",
       "      <td>https://towardsdatascience.com/databricks-how-...</td>\n",
       "      <td>Databricks: How to Save Files in CSV on Your L...</td>\n",
       "      <td>When I work on Python projects dealing…</td>\n",
       "      <td>4.jpeg</td>\n",
       "      <td>354</td>\n",
       "      <td>0</td>\n",
       "      <td>4</td>\n",
       "      <td>Towards Data Science</td>\n",
       "      <td>2019-05-30</td>\n",
       "    </tr>\n",
       "    <tr>\n",
       "      <th>4</th>\n",
       "      <td>5</td>\n",
       "      <td>https://towardsdatascience.com/a-step-by-step-...</td>\n",
       "      <td>A Step-by-Step Implementation of Gradient Desc...</td>\n",
       "      <td>One example of building neural…</td>\n",
       "      <td>5.jpeg</td>\n",
       "      <td>211</td>\n",
       "      <td>3</td>\n",
       "      <td>4</td>\n",
       "      <td>Towards Data Science</td>\n",
       "      <td>2019-05-30</td>\n",
       "    </tr>\n",
       "  </tbody>\n",
       "</table>\n",
       "</div>"
      ],
      "text/plain": [
       "   id                                                url  \\\n",
       "0   1  https://towardsdatascience.com/a-beginners-gui...   \n",
       "1   2  https://towardsdatascience.com/hands-on-graph-...   \n",
       "2   3  https://towardsdatascience.com/how-to-use-ggpl...   \n",
       "3   4  https://towardsdatascience.com/databricks-how-...   \n",
       "4   5  https://towardsdatascience.com/a-step-by-step-...   \n",
       "\n",
       "                                               title  \\\n",
       "0  A Beginner’s Guide to Word Embedding with Gens...   \n",
       "1  Hands-on Graph Neural Networks with PyTorch & ...   \n",
       "2                       How to Use ggplot2 in Python   \n",
       "3  Databricks: How to Save Files in CSV on Your L...   \n",
       "4  A Step-by-Step Implementation of Gradient Desc...   \n",
       "\n",
       "                                  subtitle   image  claps responses  \\\n",
       "0                                      NaN   1.png    850         8   \n",
       "1                                      NaN   2.png   1100        11   \n",
       "2         A Grammar of Graphics for Python   3.png    767         1   \n",
       "3  When I work on Python projects dealing…  4.jpeg    354         0   \n",
       "4          One example of building neural…  5.jpeg    211         3   \n",
       "\n",
       "   reading_time           publication        date  \n",
       "0             8  Towards Data Science  2019-05-30  \n",
       "1             9  Towards Data Science  2019-05-30  \n",
       "2             5  Towards Data Science  2019-05-30  \n",
       "3             4  Towards Data Science  2019-05-30  \n",
       "4             4  Towards Data Science  2019-05-30  "
      ]
     },
     "execution_count": 4,
     "metadata": {},
     "output_type": "execute_result"
    }
   ],
   "source": [
    "medium.head()"
   ]
  },
  {
   "cell_type": "code",
   "execution_count": 5,
   "id": "8d658f69",
   "metadata": {
    "execution": {
     "iopub.execute_input": "2024-03-02T09:21:08.538192Z",
     "iopub.status.busy": "2024-03-02T09:21:08.537719Z",
     "iopub.status.idle": "2024-03-02T09:21:08.554008Z",
     "shell.execute_reply": "2024-03-02T09:21:08.552774Z"
    },
    "papermill": {
     "duration": 0.030215,
     "end_time": "2024-03-02T09:21:08.556894",
     "exception": false,
     "start_time": "2024-03-02T09:21:08.526679",
     "status": "completed"
    },
    "tags": []
   },
   "outputs": [
    {
     "data": {
      "text/html": [
       "<div>\n",
       "<style scoped>\n",
       "    .dataframe tbody tr th:only-of-type {\n",
       "        vertical-align: middle;\n",
       "    }\n",
       "\n",
       "    .dataframe tbody tr th {\n",
       "        vertical-align: top;\n",
       "    }\n",
       "\n",
       "    .dataframe thead th {\n",
       "        text-align: right;\n",
       "    }\n",
       "</style>\n",
       "<table border=\"1\" class=\"dataframe\">\n",
       "  <thead>\n",
       "    <tr style=\"text-align: right;\">\n",
       "      <th></th>\n",
       "      <th>id</th>\n",
       "      <th>url</th>\n",
       "      <th>title</th>\n",
       "      <th>subtitle</th>\n",
       "      <th>image</th>\n",
       "      <th>claps</th>\n",
       "      <th>responses</th>\n",
       "      <th>reading_time</th>\n",
       "      <th>publication</th>\n",
       "      <th>date</th>\n",
       "    </tr>\n",
       "  </thead>\n",
       "  <tbody>\n",
       "    <tr>\n",
       "      <th>6503</th>\n",
       "      <td>6504</td>\n",
       "      <td>https://medium.com/better-marketing/we-vs-i-ho...</td>\n",
       "      <td>“We” vs “I” — How Should You Talk About Yourse...</td>\n",
       "      <td>Basic copywriting choices with a big…</td>\n",
       "      <td>6504.jpg</td>\n",
       "      <td>661</td>\n",
       "      <td>6</td>\n",
       "      <td>6</td>\n",
       "      <td>Better Marketing</td>\n",
       "      <td>2019-12-05</td>\n",
       "    </tr>\n",
       "    <tr>\n",
       "      <th>6504</th>\n",
       "      <td>6505</td>\n",
       "      <td>https://medium.com/better-marketing/how-donald...</td>\n",
       "      <td>How Donald Trump Markets Himself</td>\n",
       "      <td>Lessons from who might be the most popular bra...</td>\n",
       "      <td>6505.jpeg</td>\n",
       "      <td>189</td>\n",
       "      <td>1</td>\n",
       "      <td>5</td>\n",
       "      <td>Better Marketing</td>\n",
       "      <td>2019-12-05</td>\n",
       "    </tr>\n",
       "    <tr>\n",
       "      <th>6505</th>\n",
       "      <td>6506</td>\n",
       "      <td>https://medium.com/better-marketing/content-an...</td>\n",
       "      <td>Content and Marketing Beyond Mass Consumption</td>\n",
       "      <td>How to acquire customers without wasting money...</td>\n",
       "      <td>6506.jpg</td>\n",
       "      <td>207</td>\n",
       "      <td>1</td>\n",
       "      <td>8</td>\n",
       "      <td>Better Marketing</td>\n",
       "      <td>2019-12-05</td>\n",
       "    </tr>\n",
       "    <tr>\n",
       "      <th>6506</th>\n",
       "      <td>6507</td>\n",
       "      <td>https://medium.com/better-marketing/5-question...</td>\n",
       "      <td>5 Questions All Copywriters Should Ask Clients...</td>\n",
       "      <td>Save time and effort by…</td>\n",
       "      <td>6507.jpg</td>\n",
       "      <td>253</td>\n",
       "      <td>2</td>\n",
       "      <td>5</td>\n",
       "      <td>Better Marketing</td>\n",
       "      <td>2019-12-05</td>\n",
       "    </tr>\n",
       "    <tr>\n",
       "      <th>6507</th>\n",
       "      <td>6508</td>\n",
       "      <td>https://medium.com/better-marketing/how-to-wri...</td>\n",
       "      <td>How To Write a Good Business Blog Post</td>\n",
       "      <td>An A-to-Z guide for non-writers</td>\n",
       "      <td>6508.jpg</td>\n",
       "      <td>147</td>\n",
       "      <td>0</td>\n",
       "      <td>9</td>\n",
       "      <td>Better Marketing</td>\n",
       "      <td>2019-12-05</td>\n",
       "    </tr>\n",
       "  </tbody>\n",
       "</table>\n",
       "</div>"
      ],
      "text/plain": [
       "        id                                                url  \\\n",
       "6503  6504  https://medium.com/better-marketing/we-vs-i-ho...   \n",
       "6504  6505  https://medium.com/better-marketing/how-donald...   \n",
       "6505  6506  https://medium.com/better-marketing/content-an...   \n",
       "6506  6507  https://medium.com/better-marketing/5-question...   \n",
       "6507  6508  https://medium.com/better-marketing/how-to-wri...   \n",
       "\n",
       "                                                  title  \\\n",
       "6503  “We” vs “I” — How Should You Talk About Yourse...   \n",
       "6504                   How Donald Trump Markets Himself   \n",
       "6505      Content and Marketing Beyond Mass Consumption   \n",
       "6506  5 Questions All Copywriters Should Ask Clients...   \n",
       "6507             How To Write a Good Business Blog Post   \n",
       "\n",
       "                                               subtitle      image  claps  \\\n",
       "6503              Basic copywriting choices with a big…   6504.jpg    661   \n",
       "6504  Lessons from who might be the most popular bra...  6505.jpeg    189   \n",
       "6505  How to acquire customers without wasting money...   6506.jpg    207   \n",
       "6506                           Save time and effort by…   6507.jpg    253   \n",
       "6507                    An A-to-Z guide for non-writers   6508.jpg    147   \n",
       "\n",
       "     responses  reading_time       publication        date  \n",
       "6503         6             6  Better Marketing  2019-12-05  \n",
       "6504         1             5  Better Marketing  2019-12-05  \n",
       "6505         1             8  Better Marketing  2019-12-05  \n",
       "6506         2             5  Better Marketing  2019-12-05  \n",
       "6507         0             9  Better Marketing  2019-12-05  "
      ]
     },
     "execution_count": 5,
     "metadata": {},
     "output_type": "execute_result"
    }
   ],
   "source": [
    "medium.tail() "
   ]
  },
  {
   "cell_type": "code",
   "execution_count": 6,
   "id": "48aa74c7",
   "metadata": {
    "execution": {
     "iopub.execute_input": "2024-03-02T09:21:08.580231Z",
     "iopub.status.busy": "2024-03-02T09:21:08.579772Z",
     "iopub.status.idle": "2024-03-02T09:21:08.589692Z",
     "shell.execute_reply": "2024-03-02T09:21:08.588231Z"
    },
    "papermill": {
     "duration": 0.024834,
     "end_time": "2024-03-02T09:21:08.592704",
     "exception": false,
     "start_time": "2024-03-02T09:21:08.567870",
     "status": "completed"
    },
    "tags": []
   },
   "outputs": [
    {
     "data": {
      "text/plain": [
       "id               int64\n",
       "url             object\n",
       "title           object\n",
       "subtitle        object\n",
       "image           object\n",
       "claps            int64\n",
       "responses       object\n",
       "reading_time     int64\n",
       "publication     object\n",
       "date            object\n",
       "dtype: object"
      ]
     },
     "execution_count": 6,
     "metadata": {},
     "output_type": "execute_result"
    }
   ],
   "source": [
    "medium.dtypes"
   ]
  },
  {
   "cell_type": "code",
   "execution_count": 7,
   "id": "d0eb6f50",
   "metadata": {
    "execution": {
     "iopub.execute_input": "2024-03-02T09:21:08.616042Z",
     "iopub.status.busy": "2024-03-02T09:21:08.615638Z",
     "iopub.status.idle": "2024-03-02T09:21:08.741060Z",
     "shell.execute_reply": "2024-03-02T09:21:08.739522Z"
    },
    "papermill": {
     "duration": 0.140327,
     "end_time": "2024-03-02T09:21:08.744396",
     "exception": false,
     "start_time": "2024-03-02T09:21:08.604069",
     "status": "completed"
    },
    "tags": []
   },
   "outputs": [
    {
     "name": "stdout",
     "output_type": "stream",
     "text": [
      "<class 'pandas.core.frame.DataFrame'>\n",
      "RangeIndex: 6508 entries, 0 to 6507\n",
      "Data columns (total 10 columns):\n",
      " #   Column        Non-Null Count  Dtype \n",
      "---  ------        --------------  ----- \n",
      " 0   id            6508 non-null   int64 \n",
      " 1   url           6508 non-null   object\n",
      " 2   title         6508 non-null   object\n",
      " 3   subtitle      3479 non-null   object\n",
      " 4   image         6361 non-null   object\n",
      " 5   claps         6508 non-null   int64 \n",
      " 6   responses     6508 non-null   object\n",
      " 7   reading_time  6508 non-null   int64 \n",
      " 8   publication   6508 non-null   object\n",
      " 9   date          6508 non-null   object\n",
      "dtypes: int64(3), object(7)\n",
      "memory usage: 508.6+ KB\n"
     ]
    }
   ],
   "source": [
    "medium.info()"
   ]
  },
  {
   "cell_type": "markdown",
   "id": "b905dbd6",
   "metadata": {
    "papermill": {
     "duration": 0.010223,
     "end_time": "2024-03-02T09:21:08.765683",
     "exception": false,
     "start_time": "2024-03-02T09:21:08.755460",
     "status": "completed"
    },
    "tags": []
   },
   "source": [
    "## Top 5 medium publications by the total number of claps"
   ]
  },
  {
   "cell_type": "code",
   "execution_count": 8,
   "id": "fda43826",
   "metadata": {
    "execution": {
     "iopub.execute_input": "2024-03-02T09:21:08.789855Z",
     "iopub.status.busy": "2024-03-02T09:21:08.789132Z",
     "iopub.status.idle": "2024-03-02T09:21:08.802012Z",
     "shell.execute_reply": "2024-03-02T09:21:08.800959Z"
    },
    "papermill": {
     "duration": 0.027382,
     "end_time": "2024-03-02T09:21:08.804543",
     "exception": false,
     "start_time": "2024-03-02T09:21:08.777161",
     "status": "completed"
    },
    "tags": []
   },
   "outputs": [
    {
     "data": {
      "text/plain": [
       "publication\n",
       "The Startup                922651\n",
       "Towards Data Science       414386\n",
       "UX Collective              211413\n",
       "Better Marketing           200702\n",
       "The Writing Cooperative    150216\n",
       "Name: claps, dtype: int64"
      ]
     },
     "execution_count": 8,
     "metadata": {},
     "output_type": "execute_result"
    }
   ],
   "source": [
    "x=medium.groupby('publication')[\"claps\"].sum().sort_values(ascending=False)[:5]\n",
    "x"
   ]
  },
  {
   "cell_type": "code",
   "execution_count": 9,
   "id": "d19bd789",
   "metadata": {
    "execution": {
     "iopub.execute_input": "2024-03-02T09:21:08.828250Z",
     "iopub.status.busy": "2024-03-02T09:21:08.827085Z",
     "iopub.status.idle": "2024-03-02T09:21:09.212196Z",
     "shell.execute_reply": "2024-03-02T09:21:09.210497Z"
    },
    "papermill": {
     "duration": 0.400206,
     "end_time": "2024-03-02T09:21:09.215865",
     "exception": false,
     "start_time": "2024-03-02T09:21:08.815659",
     "status": "completed"
    },
    "tags": []
   },
   "outputs": [
    {
     "data": {
      "image/png": "[encoded data removed]",
      "text/plain": [
       "<Figure size 800x700 with 1 Axes>"
      ]
     },
     "metadata": {},
     "output_type": "display_data"
    }
   ],
   "source": [
    "x.plot.bar(color='#F57D1F',figsize=(8,7))\n",
    "plt.xlabel('No of claps',fontdict={'fontsize':12,'fontweight':'bold'})\n",
    "plt.ylabel('Publication',fontdict={'fontsize':12,'fontweight':'bold'})\n",
    "plt.title('Top 5 medium publication based on the total number of claps',\n",
    "          fontdict={'fontsize':12,'fontweight':'bold'});"
   ]
  },
  {
   "cell_type": "code",
   "execution_count": 10,
   "id": "6ce2dca7",
   "metadata": {
    "execution": {
     "iopub.execute_input": "2024-03-02T09:21:09.240055Z",
     "iopub.status.busy": "2024-03-02T09:21:09.239652Z",
     "iopub.status.idle": "2024-03-02T09:21:09.250269Z",
     "shell.execute_reply": "2024-03-02T09:21:09.248252Z"
    },
    "papermill": {
     "duration": 0.026772,
     "end_time": "2024-03-02T09:21:09.253640",
     "exception": false,
     "start_time": "2024-03-02T09:21:09.226868",
     "status": "completed"
    },
    "tags": []
   },
   "outputs": [
    {
     "data": {
      "text/plain": [
       "['id',\n",
       " 'url',\n",
       " 'title',\n",
       " 'subtitle',\n",
       " 'image',\n",
       " 'claps',\n",
       " 'responses',\n",
       " 'reading_time',\n",
       " 'publication',\n",
       " 'date']"
      ]
     },
     "execution_count": 10,
     "metadata": {},
     "output_type": "execute_result"
    }
   ],
   "source": [
    "medium.columns.tolist()"
   ]
  },
  {
   "cell_type": "code",
   "execution_count": 11,
   "id": "0fa09d33",
   "metadata": {
    "execution": {
     "iopub.execute_input": "2024-03-02T09:21:09.279619Z",
     "iopub.status.busy": "2024-03-02T09:21:09.278892Z",
     "iopub.status.idle": "2024-03-02T09:21:09.298619Z",
     "shell.execute_reply": "2024-03-02T09:21:09.297378Z"
    },
    "papermill": {
     "duration": 0.036056,
     "end_time": "2024-03-02T09:21:09.301680",
     "exception": false,
     "start_time": "2024-03-02T09:21:09.265624",
     "status": "completed"
    },
    "tags": []
   },
   "outputs": [
    {
     "data": {
      "text/html": [
       "<div>\n",
       "<style scoped>\n",
       "    .dataframe tbody tr th:only-of-type {\n",
       "        vertical-align: middle;\n",
       "    }\n",
       "\n",
       "    .dataframe tbody tr th {\n",
       "        vertical-align: top;\n",
       "    }\n",
       "\n",
       "    .dataframe thead th {\n",
       "        text-align: right;\n",
       "    }\n",
       "</style>\n",
       "<table border=\"1\" class=\"dataframe\">\n",
       "  <thead>\n",
       "    <tr style=\"text-align: right;\">\n",
       "      <th></th>\n",
       "      <th>url</th>\n",
       "      <th>title</th>\n",
       "      <th>subtitle</th>\n",
       "      <th>image</th>\n",
       "      <th>responses</th>\n",
       "      <th>publication</th>\n",
       "      <th>date</th>\n",
       "    </tr>\n",
       "  </thead>\n",
       "  <tbody>\n",
       "    <tr>\n",
       "      <th>0</th>\n",
       "      <td>https://towardsdatascience.com/a-beginners-gui...</td>\n",
       "      <td>A Beginner’s Guide to Word Embedding with Gens...</td>\n",
       "      <td>NaN</td>\n",
       "      <td>1.png</td>\n",
       "      <td>8</td>\n",
       "      <td>Towards Data Science</td>\n",
       "      <td>2019-05-30</td>\n",
       "    </tr>\n",
       "    <tr>\n",
       "      <th>1</th>\n",
       "      <td>https://towardsdatascience.com/hands-on-graph-...</td>\n",
       "      <td>Hands-on Graph Neural Networks with PyTorch &amp; ...</td>\n",
       "      <td>NaN</td>\n",
       "      <td>2.png</td>\n",
       "      <td>11</td>\n",
       "      <td>Towards Data Science</td>\n",
       "      <td>2019-05-30</td>\n",
       "    </tr>\n",
       "    <tr>\n",
       "      <th>2</th>\n",
       "      <td>https://towardsdatascience.com/how-to-use-ggpl...</td>\n",
       "      <td>How to Use ggplot2 in Python</td>\n",
       "      <td>A Grammar of Graphics for Python</td>\n",
       "      <td>3.png</td>\n",
       "      <td>1</td>\n",
       "      <td>Towards Data Science</td>\n",
       "      <td>2019-05-30</td>\n",
       "    </tr>\n",
       "    <tr>\n",
       "      <th>3</th>\n",
       "      <td>https://towardsdatascience.com/databricks-how-...</td>\n",
       "      <td>Databricks: How to Save Files in CSV on Your L...</td>\n",
       "      <td>When I work on Python projects dealing…</td>\n",
       "      <td>4.jpeg</td>\n",
       "      <td>0</td>\n",
       "      <td>Towards Data Science</td>\n",
       "      <td>2019-05-30</td>\n",
       "    </tr>\n",
       "    <tr>\n",
       "      <th>4</th>\n",
       "      <td>https://towardsdatascience.com/a-step-by-step-...</td>\n",
       "      <td>A Step-by-Step Implementation of Gradient Desc...</td>\n",
       "      <td>One example of building neural…</td>\n",
       "      <td>5.jpeg</td>\n",
       "      <td>3</td>\n",
       "      <td>Towards Data Science</td>\n",
       "      <td>2019-05-30</td>\n",
       "    </tr>\n",
       "    <tr>\n",
       "      <th>...</th>\n",
       "      <td>...</td>\n",
       "      <td>...</td>\n",
       "      <td>...</td>\n",
       "      <td>...</td>\n",
       "      <td>...</td>\n",
       "      <td>...</td>\n",
       "      <td>...</td>\n",
       "    </tr>\n",
       "    <tr>\n",
       "      <th>6503</th>\n",
       "      <td>https://medium.com/better-marketing/we-vs-i-ho...</td>\n",
       "      <td>“We” vs “I” — How Should You Talk About Yourse...</td>\n",
       "      <td>Basic copywriting choices with a big…</td>\n",
       "      <td>6504.jpg</td>\n",
       "      <td>6</td>\n",
       "      <td>Better Marketing</td>\n",
       "      <td>2019-12-05</td>\n",
       "    </tr>\n",
       "    <tr>\n",
       "      <th>6504</th>\n",
       "      <td>https://medium.com/better-marketing/how-donald...</td>\n",
       "      <td>How Donald Trump Markets Himself</td>\n",
       "      <td>Lessons from who might be the most popular bra...</td>\n",
       "      <td>6505.jpeg</td>\n",
       "      <td>1</td>\n",
       "      <td>Better Marketing</td>\n",
       "      <td>2019-12-05</td>\n",
       "    </tr>\n",
       "    <tr>\n",
       "      <th>6505</th>\n",
       "      <td>https://medium.com/better-marketing/content-an...</td>\n",
       "      <td>Content and Marketing Beyond Mass Consumption</td>\n",
       "      <td>How to acquire customers without wasting money...</td>\n",
       "      <td>6506.jpg</td>\n",
       "      <td>1</td>\n",
       "      <td>Better Marketing</td>\n",
       "      <td>2019-12-05</td>\n",
       "    </tr>\n",
       "    <tr>\n",
       "      <th>6506</th>\n",
       "      <td>https://medium.com/better-marketing/5-question...</td>\n",
       "      <td>5 Questions All Copywriters Should Ask Clients...</td>\n",
       "      <td>Save time and effort by…</td>\n",
       "      <td>6507.jpg</td>\n",
       "      <td>2</td>\n",
       "      <td>Better Marketing</td>\n",
       "      <td>2019-12-05</td>\n",
       "    </tr>\n",
       "    <tr>\n",
       "      <th>6507</th>\n",
       "      <td>https://medium.com/better-marketing/how-to-wri...</td>\n",
       "      <td>How To Write a Good Business Blog Post</td>\n",
       "      <td>An A-to-Z guide for non-writers</td>\n",
       "      <td>6508.jpg</td>\n",
       "      <td>0</td>\n",
       "      <td>Better Marketing</td>\n",
       "      <td>2019-12-05</td>\n",
       "    </tr>\n",
       "  </tbody>\n",
       "</table>\n",
       "<p>6508 rows × 7 columns</p>\n",
       "</div>"
      ],
      "text/plain": [
       "                                                    url  \\\n",
       "0     https://towardsdatascience.com/a-beginners-gui...   \n",
       "1     https://towardsdatascience.com/hands-on-graph-...   \n",
       "2     https://towardsdatascience.com/how-to-use-ggpl...   \n",
       "3     https://towardsdatascience.com/databricks-how-...   \n",
       "4     https://towardsdatascience.com/a-step-by-step-...   \n",
       "...                                                 ...   \n",
       "6503  https://medium.com/better-marketing/we-vs-i-ho...   \n",
       "6504  https://medium.com/better-marketing/how-donald...   \n",
       "6505  https://medium.com/better-marketing/content-an...   \n",
       "6506  https://medium.com/better-marketing/5-question...   \n",
       "6507  https://medium.com/better-marketing/how-to-wri...   \n",
       "\n",
       "                                                  title  \\\n",
       "0     A Beginner’s Guide to Word Embedding with Gens...   \n",
       "1     Hands-on Graph Neural Networks with PyTorch & ...   \n",
       "2                          How to Use ggplot2 in Python   \n",
       "3     Databricks: How to Save Files in CSV on Your L...   \n",
       "4     A Step-by-Step Implementation of Gradient Desc...   \n",
       "...                                                 ...   \n",
       "6503  “We” vs “I” — How Should You Talk About Yourse...   \n",
       "6504                   How Donald Trump Markets Himself   \n",
       "6505      Content and Marketing Beyond Mass Consumption   \n",
       "6506  5 Questions All Copywriters Should Ask Clients...   \n",
       "6507             How To Write a Good Business Blog Post   \n",
       "\n",
       "                                               subtitle      image responses  \\\n",
       "0                                                   NaN      1.png         8   \n",
       "1                                                   NaN      2.png        11   \n",
       "2                      A Grammar of Graphics for Python      3.png         1   \n",
       "3               When I work on Python projects dealing…     4.jpeg         0   \n",
       "4                       One example of building neural…     5.jpeg         3   \n",
       "...                                                 ...        ...       ...   \n",
       "6503              Basic copywriting choices with a big…   6504.jpg         6   \n",
       "6504  Lessons from who might be the most popular bra...  6505.jpeg         1   \n",
       "6505  How to acquire customers without wasting money...   6506.jpg         1   \n",
       "6506                           Save time and effort by…   6507.jpg         2   \n",
       "6507                    An A-to-Z guide for non-writers   6508.jpg         0   \n",
       "\n",
       "               publication        date  \n",
       "0     Towards Data Science  2019-05-30  \n",
       "1     Towards Data Science  2019-05-30  \n",
       "2     Towards Data Science  2019-05-30  \n",
       "3     Towards Data Science  2019-05-30  \n",
       "4     Towards Data Science  2019-05-30  \n",
       "...                    ...         ...  \n",
       "6503      Better Marketing  2019-12-05  \n",
       "6504      Better Marketing  2019-12-05  \n",
       "6505      Better Marketing  2019-12-05  \n",
       "6506      Better Marketing  2019-12-05  \n",
       "6507      Better Marketing  2019-12-05  \n",
       "\n",
       "[6508 rows x 7 columns]"
      ]
     },
     "execution_count": 11,
     "metadata": {},
     "output_type": "execute_result"
    }
   ],
   "source": [
    "medium.select_dtypes(include='object')"
   ]
  },
  {
   "cell_type": "code",
   "execution_count": 12,
   "id": "944ef603",
   "metadata": {
    "execution": {
     "iopub.execute_input": "2024-03-02T09:21:09.327057Z",
     "iopub.status.busy": "2024-03-02T09:21:09.326619Z",
     "iopub.status.idle": "2024-03-02T09:21:09.335857Z",
     "shell.execute_reply": "2024-03-02T09:21:09.334362Z"
    },
    "papermill": {
     "duration": 0.024805,
     "end_time": "2024-03-02T09:21:09.338691",
     "exception": false,
     "start_time": "2024-03-02T09:21:09.313886",
     "status": "completed"
    },
    "tags": []
   },
   "outputs": [
    {
     "data": {
      "text/plain": [
       "id               int64\n",
       "url             object\n",
       "title           object\n",
       "subtitle        object\n",
       "image           object\n",
       "claps            int64\n",
       "responses       object\n",
       "reading_time     int64\n",
       "publication     object\n",
       "date            object\n",
       "dtype: object"
      ]
     },
     "execution_count": 12,
     "metadata": {},
     "output_type": "execute_result"
    }
   ],
   "source": [
    "medium.dtypes"
   ]
  },
  {
   "cell_type": "code",
   "execution_count": 13,
   "id": "e4d9d3c9",
   "metadata": {
    "execution": {
     "iopub.execute_input": "2024-03-02T09:21:09.365339Z",
     "iopub.status.busy": "2024-03-02T09:21:09.364904Z",
     "iopub.status.idle": "2024-03-02T09:21:09.381976Z",
     "shell.execute_reply": "2024-03-02T09:21:09.380623Z"
    },
    "papermill": {
     "duration": 0.033474,
     "end_time": "2024-03-02T09:21:09.384725",
     "exception": false,
     "start_time": "2024-03-02T09:21:09.351251",
     "status": "completed"
    },
    "tags": []
   },
   "outputs": [],
   "source": [
    "medium['date']=pd.to_datetime(medium['date'])"
   ]
  },
  {
   "cell_type": "code",
   "execution_count": 14,
   "id": "0a722f28",
   "metadata": {
    "execution": {
     "iopub.execute_input": "2024-03-02T09:21:09.410330Z",
     "iopub.status.busy": "2024-03-02T09:21:09.409914Z",
     "iopub.status.idle": "2024-03-02T09:21:09.418731Z",
     "shell.execute_reply": "2024-03-02T09:21:09.417302Z"
    },
    "papermill": {
     "duration": 0.024997,
     "end_time": "2024-03-02T09:21:09.422097",
     "exception": false,
     "start_time": "2024-03-02T09:21:09.397100",
     "status": "completed"
    },
    "tags": []
   },
   "outputs": [
    {
     "data": {
      "text/plain": [
       "id                       int64\n",
       "url                     object\n",
       "title                   object\n",
       "subtitle                object\n",
       "image                   object\n",
       "claps                    int64\n",
       "responses               object\n",
       "reading_time             int64\n",
       "publication             object\n",
       "date            datetime64[ns]\n",
       "dtype: object"
      ]
     },
     "execution_count": 14,
     "metadata": {},
     "output_type": "execute_result"
    }
   ],
   "source": [
    "medium.dtypes"
   ]
  },
  {
   "cell_type": "markdown",
   "id": "c8124661",
   "metadata": {
    "papermill": {
     "duration": 0.012176,
     "end_time": "2024-03-02T09:21:09.447008",
     "exception": false,
     "start_time": "2024-03-02T09:21:09.434832",
     "status": "completed"
    },
    "tags": []
   },
   "source": [
    "## Maximum Number of claps"
   ]
  },
  {
   "cell_type": "code",
   "execution_count": 15,
   "id": "c6a56d71",
   "metadata": {
    "execution": {
     "iopub.execute_input": "2024-03-02T09:21:09.473287Z",
     "iopub.status.busy": "2024-03-02T09:21:09.472817Z",
     "iopub.status.idle": "2024-03-02T09:21:09.481493Z",
     "shell.execute_reply": "2024-03-02T09:21:09.480363Z"
    },
    "papermill": {
     "duration": 0.025662,
     "end_time": "2024-03-02T09:21:09.484277",
     "exception": false,
     "start_time": "2024-03-02T09:21:09.458615",
     "status": "completed"
    },
    "tags": []
   },
   "outputs": [
    {
     "data": {
      "text/plain": [
       "38000"
      ]
     },
     "execution_count": 15,
     "metadata": {},
     "output_type": "execute_result"
    }
   ],
   "source": [
    "medium['claps'].max()"
   ]
  },
  {
   "cell_type": "markdown",
   "id": "78cdea3c",
   "metadata": {
    "papermill": {
     "duration": 0.012936,
     "end_time": "2024-03-02T09:21:09.509547",
     "exception": false,
     "start_time": "2024-03-02T09:21:09.496611",
     "status": "completed"
    },
    "tags": []
   },
   "source": [
    "## Identify the artcile with the highest number of claps"
   ]
  },
  {
   "cell_type": "code",
   "execution_count": 16,
   "id": "8cefd428",
   "metadata": {
    "execution": {
     "iopub.execute_input": "2024-03-02T09:21:09.535225Z",
     "iopub.status.busy": "2024-03-02T09:21:09.534780Z",
     "iopub.status.idle": "2024-03-02T09:21:09.543974Z",
     "shell.execute_reply": "2024-03-02T09:21:09.542694Z"
    },
    "papermill": {
     "duration": 0.025643,
     "end_time": "2024-03-02T09:21:09.547480",
     "exception": false,
     "start_time": "2024-03-02T09:21:09.521837",
     "status": "completed"
    },
    "tags": []
   },
   "outputs": [],
   "source": [
    "dfmaxclap = medium[medium.claps==38000]"
   ]
  },
  {
   "cell_type": "code",
   "execution_count": 17,
   "id": "a624e51d",
   "metadata": {
    "execution": {
     "iopub.execute_input": "2024-03-02T09:21:09.573889Z",
     "iopub.status.busy": "2024-03-02T09:21:09.572995Z",
     "iopub.status.idle": "2024-03-02T09:21:09.588091Z",
     "shell.execute_reply": "2024-03-02T09:21:09.586814Z"
    },
    "papermill": {
     "duration": 0.032022,
     "end_time": "2024-03-02T09:21:09.591318",
     "exception": false,
     "start_time": "2024-03-02T09:21:09.559296",
     "status": "completed"
    },
    "tags": []
   },
   "outputs": [
    {
     "data": {
      "text/html": [
       "<div>\n",
       "<style scoped>\n",
       "    .dataframe tbody tr th:only-of-type {\n",
       "        vertical-align: middle;\n",
       "    }\n",
       "\n",
       "    .dataframe tbody tr th {\n",
       "        vertical-align: top;\n",
       "    }\n",
       "\n",
       "    .dataframe thead th {\n",
       "        text-align: right;\n",
       "    }\n",
       "</style>\n",
       "<table border=\"1\" class=\"dataframe\">\n",
       "  <thead>\n",
       "    <tr style=\"text-align: right;\">\n",
       "      <th></th>\n",
       "      <th>id</th>\n",
       "      <th>url</th>\n",
       "      <th>title</th>\n",
       "      <th>subtitle</th>\n",
       "      <th>image</th>\n",
       "      <th>claps</th>\n",
       "      <th>responses</th>\n",
       "      <th>reading_time</th>\n",
       "      <th>publication</th>\n",
       "      <th>date</th>\n",
       "    </tr>\n",
       "  </thead>\n",
       "  <tbody>\n",
       "    <tr>\n",
       "      <th>4552</th>\n",
       "      <td>4553</td>\n",
       "      <td>https://medium.com/swlh/i-have-15-ideas-to-cha...</td>\n",
       "      <td>I Have 15 ideas To Change Your Life. Do you Ha...</td>\n",
       "      <td>NaN</td>\n",
       "      <td>4553.png</td>\n",
       "      <td>38000</td>\n",
       "      <td>170</td>\n",
       "      <td>5</td>\n",
       "      <td>The Startup</td>\n",
       "      <td>2019-05-20</td>\n",
       "    </tr>\n",
       "  </tbody>\n",
       "</table>\n",
       "</div>"
      ],
      "text/plain": [
       "        id                                                url  \\\n",
       "4552  4553  https://medium.com/swlh/i-have-15-ideas-to-cha...   \n",
       "\n",
       "                                                  title subtitle     image  \\\n",
       "4552  I Have 15 ideas To Change Your Life. Do you Ha...      NaN  4553.png   \n",
       "\n",
       "      claps responses  reading_time  publication       date  \n",
       "4552  38000       170             5  The Startup 2019-05-20  "
      ]
     },
     "execution_count": 17,
     "metadata": {},
     "output_type": "execute_result"
    }
   ],
   "source": [
    "dfmaxclap"
   ]
  },
  {
   "cell_type": "markdown",
   "id": "166340a9",
   "metadata": {
    "papermill": {
     "duration": 0.012,
     "end_time": "2024-03-02T09:21:09.698504",
     "exception": false,
     "start_time": "2024-03-02T09:21:09.686504",
     "status": "completed"
    },
    "tags": []
   },
   "source": [
    "* The article with the highest number of claps is:\n",
    "\"I Have 15 ideas To Change Your Life. Do you Have 5 Minutes?\""
   ]
  },
  {
   "cell_type": "markdown",
   "id": "649fade0",
   "metadata": {
    "papermill": {
     "duration": 0.011221,
     "end_time": "2024-03-02T09:21:09.721609",
     "exception": false,
     "start_time": "2024-03-02T09:21:09.710388",
     "status": "completed"
    },
    "tags": []
   },
   "source": [
    "## Get the articles with the 25000 clap of less"
   ]
  },
  {
   "cell_type": "code",
   "execution_count": 18,
   "id": "55cdeff7",
   "metadata": {
    "execution": {
     "iopub.execute_input": "2024-03-02T09:21:09.747788Z",
     "iopub.status.busy": "2024-03-02T09:21:09.746773Z",
     "iopub.status.idle": "2024-03-02T09:21:09.761622Z",
     "shell.execute_reply": "2024-03-02T09:21:09.758296Z"
    },
    "papermill": {
     "duration": 0.031619,
     "end_time": "2024-03-02T09:21:09.764976",
     "exception": false,
     "start_time": "2024-03-02T09:21:09.733357",
     "status": "completed"
    },
    "tags": []
   },
   "outputs": [],
   "source": [
    "df25korbelowclaps = medium.query('claps<=25000')"
   ]
  },
  {
   "cell_type": "code",
   "execution_count": 19,
   "id": "23c90d53",
   "metadata": {
    "execution": {
     "iopub.execute_input": "2024-03-02T09:21:09.792339Z",
     "iopub.status.busy": "2024-03-02T09:21:09.791900Z",
     "iopub.status.idle": "2024-03-02T09:21:09.807735Z",
     "shell.execute_reply": "2024-03-02T09:21:09.806852Z"
    },
    "papermill": {
     "duration": 0.032035,
     "end_time": "2024-03-02T09:21:09.809892",
     "exception": false,
     "start_time": "2024-03-02T09:21:09.777857",
     "status": "completed"
    },
    "tags": []
   },
   "outputs": [
    {
     "data": {
      "text/html": [
       "<div>\n",
       "<style scoped>\n",
       "    .dataframe tbody tr th:only-of-type {\n",
       "        vertical-align: middle;\n",
       "    }\n",
       "\n",
       "    .dataframe tbody tr th {\n",
       "        vertical-align: top;\n",
       "    }\n",
       "\n",
       "    .dataframe thead th {\n",
       "        text-align: right;\n",
       "    }\n",
       "</style>\n",
       "<table border=\"1\" class=\"dataframe\">\n",
       "  <thead>\n",
       "    <tr style=\"text-align: right;\">\n",
       "      <th></th>\n",
       "      <th>id</th>\n",
       "      <th>url</th>\n",
       "      <th>title</th>\n",
       "      <th>subtitle</th>\n",
       "      <th>image</th>\n",
       "      <th>claps</th>\n",
       "      <th>responses</th>\n",
       "      <th>reading_time</th>\n",
       "      <th>publication</th>\n",
       "      <th>date</th>\n",
       "    </tr>\n",
       "  </thead>\n",
       "  <tbody>\n",
       "    <tr>\n",
       "      <th>0</th>\n",
       "      <td>1</td>\n",
       "      <td>https://towardsdatascience.com/a-beginners-gui...</td>\n",
       "      <td>A Beginner’s Guide to Word Embedding with Gens...</td>\n",
       "      <td>NaN</td>\n",
       "      <td>1.png</td>\n",
       "      <td>850</td>\n",
       "      <td>8</td>\n",
       "      <td>8</td>\n",
       "      <td>Towards Data Science</td>\n",
       "      <td>2019-05-30</td>\n",
       "    </tr>\n",
       "    <tr>\n",
       "      <th>1</th>\n",
       "      <td>2</td>\n",
       "      <td>https://towardsdatascience.com/hands-on-graph-...</td>\n",
       "      <td>Hands-on Graph Neural Networks with PyTorch &amp; ...</td>\n",
       "      <td>NaN</td>\n",
       "      <td>2.png</td>\n",
       "      <td>1100</td>\n",
       "      <td>11</td>\n",
       "      <td>9</td>\n",
       "      <td>Towards Data Science</td>\n",
       "      <td>2019-05-30</td>\n",
       "    </tr>\n",
       "    <tr>\n",
       "      <th>2</th>\n",
       "      <td>3</td>\n",
       "      <td>https://towardsdatascience.com/how-to-use-ggpl...</td>\n",
       "      <td>How to Use ggplot2 in Python</td>\n",
       "      <td>A Grammar of Graphics for Python</td>\n",
       "      <td>3.png</td>\n",
       "      <td>767</td>\n",
       "      <td>1</td>\n",
       "      <td>5</td>\n",
       "      <td>Towards Data Science</td>\n",
       "      <td>2019-05-30</td>\n",
       "    </tr>\n",
       "  </tbody>\n",
       "</table>\n",
       "</div>"
      ],
      "text/plain": [
       "   id                                                url  \\\n",
       "0   1  https://towardsdatascience.com/a-beginners-gui...   \n",
       "1   2  https://towardsdatascience.com/hands-on-graph-...   \n",
       "2   3  https://towardsdatascience.com/how-to-use-ggpl...   \n",
       "\n",
       "                                               title  \\\n",
       "0  A Beginner’s Guide to Word Embedding with Gens...   \n",
       "1  Hands-on Graph Neural Networks with PyTorch & ...   \n",
       "2                       How to Use ggplot2 in Python   \n",
       "\n",
       "                           subtitle  image  claps responses  reading_time  \\\n",
       "0                               NaN  1.png    850         8             8   \n",
       "1                               NaN  2.png   1100        11             9   \n",
       "2  A Grammar of Graphics for Python  3.png    767         1             5   \n",
       "\n",
       "            publication       date  \n",
       "0  Towards Data Science 2019-05-30  \n",
       "1  Towards Data Science 2019-05-30  \n",
       "2  Towards Data Science 2019-05-30  "
      ]
     },
     "execution_count": 19,
     "metadata": {},
     "output_type": "execute_result"
    }
   ],
   "source": [
    "df25korbelowclaps.head(3)"
   ]
  },
  {
   "cell_type": "code",
   "execution_count": 20,
   "id": "66cb0b68",
   "metadata": {
    "execution": {
     "iopub.execute_input": "2024-03-02T09:21:09.837078Z",
     "iopub.status.busy": "2024-03-02T09:21:09.836372Z",
     "iopub.status.idle": "2024-03-02T09:21:09.843356Z",
     "shell.execute_reply": "2024-03-02T09:21:09.842186Z"
    },
    "papermill": {
     "duration": 0.024058,
     "end_time": "2024-03-02T09:21:09.846089",
     "exception": false,
     "start_time": "2024-03-02T09:21:09.822031",
     "status": "completed"
    },
    "tags": []
   },
   "outputs": [
    {
     "data": {
      "text/plain": [
       "6507"
      ]
     },
     "execution_count": 20,
     "metadata": {},
     "output_type": "execute_result"
    }
   ],
   "source": [
    "len(df25korbelowclaps)"
   ]
  },
  {
   "cell_type": "markdown",
   "id": "1d967ceb",
   "metadata": {
    "papermill": {
     "duration": 0.011858,
     "end_time": "2024-03-02T09:21:09.871227",
     "exception": false,
     "start_time": "2024-03-02T09:21:09.859369",
     "status": "completed"
    },
    "tags": []
   },
   "source": [
    "## Get the articles with more than 3000 claps"
   ]
  },
  {
   "cell_type": "code",
   "execution_count": 21,
   "id": "02a20f43",
   "metadata": {
    "execution": {
     "iopub.execute_input": "2024-03-02T09:21:09.900020Z",
     "iopub.status.busy": "2024-03-02T09:21:09.899571Z",
     "iopub.status.idle": "2024-03-02T09:21:09.909402Z",
     "shell.execute_reply": "2024-03-02T09:21:09.908125Z"
    },
    "papermill": {
     "duration": 0.027017,
     "end_time": "2024-03-02T09:21:09.911931",
     "exception": false,
     "start_time": "2024-03-02T09:21:09.884914",
     "status": "completed"
    },
    "tags": []
   },
   "outputs": [],
   "source": [
    "dfabove3000claps = medium.query('claps>3000')"
   ]
  },
  {
   "cell_type": "code",
   "execution_count": 22,
   "id": "b34eb576",
   "metadata": {
    "execution": {
     "iopub.execute_input": "2024-03-02T09:21:09.938997Z",
     "iopub.status.busy": "2024-03-02T09:21:09.938590Z",
     "iopub.status.idle": "2024-03-02T09:21:09.954205Z",
     "shell.execute_reply": "2024-03-02T09:21:09.953283Z"
    },
    "papermill": {
     "duration": 0.032392,
     "end_time": "2024-03-02T09:21:09.956480",
     "exception": false,
     "start_time": "2024-03-02T09:21:09.924088",
     "status": "completed"
    },
    "tags": []
   },
   "outputs": [
    {
     "data": {
      "text/html": [
       "<div>\n",
       "<style scoped>\n",
       "    .dataframe tbody tr th:only-of-type {\n",
       "        vertical-align: middle;\n",
       "    }\n",
       "\n",
       "    .dataframe tbody tr th {\n",
       "        vertical-align: top;\n",
       "    }\n",
       "\n",
       "    .dataframe thead th {\n",
       "        text-align: right;\n",
       "    }\n",
       "</style>\n",
       "<table border=\"1\" class=\"dataframe\">\n",
       "  <thead>\n",
       "    <tr style=\"text-align: right;\">\n",
       "      <th></th>\n",
       "      <th>id</th>\n",
       "      <th>url</th>\n",
       "      <th>title</th>\n",
       "      <th>subtitle</th>\n",
       "      <th>image</th>\n",
       "      <th>claps</th>\n",
       "      <th>responses</th>\n",
       "      <th>reading_time</th>\n",
       "      <th>publication</th>\n",
       "      <th>date</th>\n",
       "    </tr>\n",
       "  </thead>\n",
       "  <tbody>\n",
       "    <tr>\n",
       "      <th>36</th>\n",
       "      <td>37</td>\n",
       "      <td>https://medium.com/swlh/i-just-shut-down-my-st...</td>\n",
       "      <td>I just shut down my startup. Here’s what I lea...</td>\n",
       "      <td>NaN</td>\n",
       "      <td>37.jpeg</td>\n",
       "      <td>5900</td>\n",
       "      <td>60</td>\n",
       "      <td>16</td>\n",
       "      <td>The Startup</td>\n",
       "      <td>2019-05-30</td>\n",
       "    </tr>\n",
       "    <tr>\n",
       "      <th>37</th>\n",
       "      <td>38</td>\n",
       "      <td>https://medium.com/swlh/developers-here-is-the...</td>\n",
       "      <td>Developers — here is the most convincing reaso...</td>\n",
       "      <td>A senior dev whom I respect…</td>\n",
       "      <td>38.jpeg</td>\n",
       "      <td>4800</td>\n",
       "      <td>27</td>\n",
       "      <td>7</td>\n",
       "      <td>The Startup</td>\n",
       "      <td>2019-05-30</td>\n",
       "    </tr>\n",
       "    <tr>\n",
       "      <th>38</th>\n",
       "      <td>39</td>\n",
       "      <td>https://medium.com/swlh/how-to-retain-more-fro...</td>\n",
       "      <td>How To Retain More From The Books You Read</td>\n",
       "      <td>Making sure you get the most out of reading.</td>\n",
       "      <td>39.png</td>\n",
       "      <td>11700</td>\n",
       "      <td>58</td>\n",
       "      <td>5</td>\n",
       "      <td>The Startup</td>\n",
       "      <td>2019-05-30</td>\n",
       "    </tr>\n",
       "  </tbody>\n",
       "</table>\n",
       "</div>"
      ],
      "text/plain": [
       "    id                                                url  \\\n",
       "36  37  https://medium.com/swlh/i-just-shut-down-my-st...   \n",
       "37  38  https://medium.com/swlh/developers-here-is-the...   \n",
       "38  39  https://medium.com/swlh/how-to-retain-more-fro...   \n",
       "\n",
       "                                                title  \\\n",
       "36  I just shut down my startup. Here’s what I lea...   \n",
       "37  Developers — here is the most convincing reaso...   \n",
       "38         How To Retain More From The Books You Read   \n",
       "\n",
       "                                        subtitle    image  claps responses  \\\n",
       "36                                           NaN  37.jpeg   5900        60   \n",
       "37                  A senior dev whom I respect…  38.jpeg   4800        27   \n",
       "38  Making sure you get the most out of reading.   39.png  11700        58   \n",
       "\n",
       "    reading_time  publication       date  \n",
       "36            16  The Startup 2019-05-30  \n",
       "37             7  The Startup 2019-05-30  \n",
       "38             5  The Startup 2019-05-30  "
      ]
     },
     "execution_count": 22,
     "metadata": {},
     "output_type": "execute_result"
    }
   ],
   "source": [
    "dfabove3000claps.head(3)"
   ]
  },
  {
   "cell_type": "code",
   "execution_count": 23,
   "id": "af0798c6",
   "metadata": {
    "execution": {
     "iopub.execute_input": "2024-03-02T09:21:09.983394Z",
     "iopub.status.busy": "2024-03-02T09:21:09.982937Z",
     "iopub.status.idle": "2024-03-02T09:21:09.990887Z",
     "shell.execute_reply": "2024-03-02T09:21:09.989284Z"
    },
    "papermill": {
     "duration": 0.02468,
     "end_time": "2024-03-02T09:21:09.993639",
     "exception": false,
     "start_time": "2024-03-02T09:21:09.968959",
     "status": "completed"
    },
    "tags": []
   },
   "outputs": [
    {
     "data": {
      "text/plain": [
       "77"
      ]
     },
     "execution_count": 23,
     "metadata": {},
     "output_type": "execute_result"
    }
   ],
   "source": [
    "len(dfabove3000claps)"
   ]
  },
  {
   "cell_type": "code",
   "execution_count": 24,
   "id": "f01f6c51",
   "metadata": {
    "execution": {
     "iopub.execute_input": "2024-03-02T09:21:10.022110Z",
     "iopub.status.busy": "2024-03-02T09:21:10.021654Z",
     "iopub.status.idle": "2024-03-02T09:21:10.028374Z",
     "shell.execute_reply": "2024-03-02T09:21:10.027491Z"
    },
    "papermill": {
     "duration": 0.02557,
     "end_time": "2024-03-02T09:21:10.031845",
     "exception": false,
     "start_time": "2024-03-02T09:21:10.006275",
     "status": "completed"
    },
    "tags": []
   },
   "outputs": [
    {
     "data": {
      "text/plain": [
       "6508"
      ]
     },
     "execution_count": 24,
     "metadata": {},
     "output_type": "execute_result"
    }
   ],
   "source": [
    "len(medium)"
   ]
  },
  {
   "cell_type": "code",
   "execution_count": 25,
   "id": "2c68396d",
   "metadata": {
    "execution": {
     "iopub.execute_input": "2024-03-02T09:21:10.063212Z",
     "iopub.status.busy": "2024-03-02T09:21:10.062451Z",
     "iopub.status.idle": "2024-03-02T09:21:10.069596Z",
     "shell.execute_reply": "2024-03-02T09:21:10.068646Z"
    },
    "papermill": {
     "duration": 0.026253,
     "end_time": "2024-03-02T09:21:10.072213",
     "exception": false,
     "start_time": "2024-03-02T09:21:10.045960",
     "status": "completed"
    },
    "tags": []
   },
   "outputs": [
    {
     "data": {
      "text/plain": [
       "7"
      ]
     },
     "execution_count": 25,
     "metadata": {},
     "output_type": "execute_result"
    }
   ],
   "source": [
    "medium['publication'].nunique()"
   ]
  },
  {
   "cell_type": "code",
   "execution_count": 26,
   "id": "b96c62d3",
   "metadata": {
    "execution": {
     "iopub.execute_input": "2024-03-02T09:21:10.101898Z",
     "iopub.status.busy": "2024-03-02T09:21:10.101020Z",
     "iopub.status.idle": "2024-03-02T09:21:10.110664Z",
     "shell.execute_reply": "2024-03-02T09:21:10.108682Z"
    },
    "papermill": {
     "duration": 0.02818,
     "end_time": "2024-03-02T09:21:10.113596",
     "exception": false,
     "start_time": "2024-03-02T09:21:10.085416",
     "status": "completed"
    },
    "tags": []
   },
   "outputs": [
    {
     "data": {
      "text/plain": [
       "array(['Towards Data Science', 'UX Collective', 'The Startup',\n",
       "       'The Writing Cooperative', 'Data Driven Investor',\n",
       "       'Better Marketing', 'Better Humans'], dtype=object)"
      ]
     },
     "execution_count": 26,
     "metadata": {},
     "output_type": "execute_result"
    }
   ],
   "source": [
    "medium['publication'].unique()"
   ]
  },
  {
   "cell_type": "code",
   "execution_count": 27,
   "id": "b3521e06",
   "metadata": {
    "execution": {
     "iopub.execute_input": "2024-03-02T09:21:10.141962Z",
     "iopub.status.busy": "2024-03-02T09:21:10.140879Z",
     "iopub.status.idle": "2024-03-02T09:21:10.150948Z",
     "shell.execute_reply": "2024-03-02T09:21:10.149746Z"
    },
    "papermill": {
     "duration": 0.027353,
     "end_time": "2024-03-02T09:21:10.153758",
     "exception": false,
     "start_time": "2024-03-02T09:21:10.126405",
     "status": "completed"
    },
    "tags": []
   },
   "outputs": [
    {
     "data": {
      "text/plain": [
       "publication\n",
       "The Startup                3041\n",
       "Towards Data Science       1461\n",
       "Data Driven Investor        778\n",
       "UX Collective               555\n",
       "The Writing Cooperative     403\n",
       "Better Marketing            242\n",
       "Better Humans                28\n",
       "Name: count, dtype: int64"
      ]
     },
     "execution_count": 27,
     "metadata": {},
     "output_type": "execute_result"
    }
   ],
   "source": [
    "z=medium['publication'].value_counts(sort=True)\n",
    "z"
   ]
  },
  {
   "cell_type": "code",
   "execution_count": 28,
   "id": "1dc6063e",
   "metadata": {
    "execution": {
     "iopub.execute_input": "2024-03-02T09:21:10.182446Z",
     "iopub.status.busy": "2024-03-02T09:21:10.181640Z",
     "iopub.status.idle": "2024-03-02T09:21:10.546150Z",
     "shell.execute_reply": "2024-03-02T09:21:10.544783Z"
    },
    "papermill": {
     "duration": 0.381746,
     "end_time": "2024-03-02T09:21:10.548782",
     "exception": false,
     "start_time": "2024-03-02T09:21:10.167036",
     "status": "completed"
    },
    "tags": []
   },
   "outputs": [
    {
     "data": {
      "image/png": "[encoded data removed]",
      "text/plain": [
       "<Figure size 1000x500 with 1 Axes>"
      ]
     },
     "metadata": {},
     "output_type": "display_data"
    }
   ],
   "source": [
    "z.plot(kind='bar',figsize=(10,5),color='#87A922',fontsize=15,\n",
    "       title='A chart showing the number of articles in each publication',);"
   ]
  },
  {
   "cell_type": "code",
   "execution_count": 29,
   "id": "d36a8c34",
   "metadata": {
    "execution": {
     "iopub.execute_input": "2024-03-02T09:21:10.581059Z",
     "iopub.status.busy": "2024-03-02T09:21:10.580343Z",
     "iopub.status.idle": "2024-03-02T09:21:10.598441Z",
     "shell.execute_reply": "2024-03-02T09:21:10.596899Z"
    },
    "papermill": {
     "duration": 0.037397,
     "end_time": "2024-03-02T09:21:10.601226",
     "exception": false,
     "start_time": "2024-03-02T09:21:10.563829",
     "status": "completed"
    },
    "tags": []
   },
   "outputs": [
    {
     "data": {
      "text/html": [
       "<div>\n",
       "<style scoped>\n",
       "    .dataframe tbody tr th:only-of-type {\n",
       "        vertical-align: middle;\n",
       "    }\n",
       "\n",
       "    .dataframe tbody tr th {\n",
       "        vertical-align: top;\n",
       "    }\n",
       "\n",
       "    .dataframe thead th {\n",
       "        text-align: right;\n",
       "    }\n",
       "</style>\n",
       "<table border=\"1\" class=\"dataframe\">\n",
       "  <thead>\n",
       "    <tr style=\"text-align: right;\">\n",
       "      <th></th>\n",
       "      <th>id</th>\n",
       "      <th>url</th>\n",
       "      <th>title</th>\n",
       "      <th>subtitle</th>\n",
       "      <th>image</th>\n",
       "      <th>claps</th>\n",
       "      <th>responses</th>\n",
       "      <th>reading_time</th>\n",
       "      <th>publication</th>\n",
       "      <th>date</th>\n",
       "    </tr>\n",
       "  </thead>\n",
       "  <tbody>\n",
       "    <tr>\n",
       "      <th>3977</th>\n",
       "      <td>3978</td>\n",
       "      <td>https://medium.com/datadriveninvestor/what-do-...</td>\n",
       "      <td>What do you think of the Open Group’s Data Sci...</td>\n",
       "      <td>NaN</td>\n",
       "      <td>3978.jpg</td>\n",
       "      <td>73</td>\n",
       "      <td>Read</td>\n",
       "      <td>3</td>\n",
       "      <td>Data Driven Investor</td>\n",
       "      <td>2019-05-24</td>\n",
       "    </tr>\n",
       "    <tr>\n",
       "      <th>6392</th>\n",
       "      <td>6393</td>\n",
       "      <td>https://uxdesign.cc/please-please-please-tell-...</td>\n",
       "      <td>UX doesn’t discriminate, it targets behaviours</td>\n",
       "      <td>NaN</td>\n",
       "      <td>NaN</td>\n",
       "      <td>74</td>\n",
       "      <td>Read</td>\n",
       "      <td>5</td>\n",
       "      <td>UX Collective</td>\n",
       "      <td>2019-12-05</td>\n",
       "    </tr>\n",
       "  </tbody>\n",
       "</table>\n",
       "</div>"
      ],
      "text/plain": [
       "        id                                                url  \\\n",
       "3977  3978  https://medium.com/datadriveninvestor/what-do-...   \n",
       "6392  6393  https://uxdesign.cc/please-please-please-tell-...   \n",
       "\n",
       "                                                  title subtitle     image  \\\n",
       "3977  What do you think of the Open Group’s Data Sci...      NaN  3978.jpg   \n",
       "6392     UX doesn’t discriminate, it targets behaviours      NaN       NaN   \n",
       "\n",
       "      claps responses  reading_time           publication       date  \n",
       "3977     73      Read             3  Data Driven Investor 2019-05-24  \n",
       "6392     74      Read             5         UX Collective 2019-12-05  "
      ]
     },
     "execution_count": 29,
     "metadata": {},
     "output_type": "execute_result"
    }
   ],
   "source": [
    "medium.query(\"responses=='Read'\")"
   ]
  },
  {
   "cell_type": "code",
   "execution_count": 30,
   "id": "cf8c8307",
   "metadata": {
    "execution": {
     "iopub.execute_input": "2024-03-02T09:21:10.632552Z",
     "iopub.status.busy": "2024-03-02T09:21:10.632082Z",
     "iopub.status.idle": "2024-03-02T09:21:10.639140Z",
     "shell.execute_reply": "2024-03-02T09:21:10.637976Z"
    },
    "papermill": {
     "duration": 0.025373,
     "end_time": "2024-03-02T09:21:10.641258",
     "exception": false,
     "start_time": "2024-03-02T09:21:10.615885",
     "status": "completed"
    },
    "tags": []
   },
   "outputs": [],
   "source": [
    "medium['responses'].replace(\"Read\",0,inplace = True)"
   ]
  },
  {
   "cell_type": "markdown",
   "id": "48c3e763",
   "metadata": {
    "papermill": {
     "duration": 0.013809,
     "end_time": "2024-03-02T09:21:10.669089",
     "exception": false,
     "start_time": "2024-03-02T09:21:10.655280",
     "status": "completed"
    },
    "tags": []
   },
   "source": [
    "## Top 5 Medium publications by the total reading minutes"
   ]
  },
  {
   "cell_type": "code",
   "execution_count": 31,
   "id": "756068c7",
   "metadata": {
    "execution": {
     "iopub.execute_input": "2024-03-02T09:21:10.699133Z",
     "iopub.status.busy": "2024-03-02T09:21:10.698638Z",
     "iopub.status.idle": "2024-03-02T09:21:10.707006Z",
     "shell.execute_reply": "2024-03-02T09:21:10.705770Z"
    },
    "papermill": {
     "duration": 0.026819,
     "end_time": "2024-03-02T09:21:10.709969",
     "exception": false,
     "start_time": "2024-03-02T09:21:10.683150",
     "status": "completed"
    },
    "tags": []
   },
   "outputs": [],
   "source": [
    "readmin = medium.groupby('publication')['reading_time'].sum().sort_values(ascending=False)[:5]"
   ]
  },
  {
   "cell_type": "code",
   "execution_count": 32,
   "id": "00433891",
   "metadata": {
    "execution": {
     "iopub.execute_input": "2024-03-02T09:21:10.740861Z",
     "iopub.status.busy": "2024-03-02T09:21:10.739873Z",
     "iopub.status.idle": "2024-03-02T09:21:10.987625Z",
     "shell.execute_reply": "2024-03-02T09:21:10.985991Z"
    },
    "papermill": {
     "duration": 0.268752,
     "end_time": "2024-03-02T09:21:10.992880",
     "exception": false,
     "start_time": "2024-03-02T09:21:10.724128",
     "status": "completed"
    },
    "tags": []
   },
   "outputs": [
    {
     "data": {
      "image/png": "[encoded data removed]",
      "text/plain": [
       "<Figure size 1000x1200 with 1 Axes>"
      ]
     },
     "metadata": {},
     "output_type": "display_data"
    }
   ],
   "source": [
    "readmin.plot.pie(figsize=(10,12),colors=['#FAA300','green','crimson','#452276','#FBA834'],\n",
    "                 autopct='%1.1f%%')\n",
    "plt.title('Medium publications by the total number of reading minutes',\n",
    "          fontdict={'fontsize':15,'fontweight':'bold'});"
   ]
  }
 ],
 "metadata": {
  "kaggle": {
   "accelerator": "none",
   "dataSources": [
    {
     "datasetId": 748442,
     "sourceId": 1294572,
     "sourceType": "datasetVersion"
    }
   ],
   "dockerImageVersionId": 30626,
   "isGpuEnabled": false,
   "isInternetEnabled": true,
   "language": "python",
   "sourceType": "notebook"
  },
  "kernelspec": {
   "display_name": "Python 3",
   "language": "python",
   "name": "python3"
  },
  "language_info": {
   "codemirror_mode": {
    "name": "ipython",
    "version": 3
   },
   "file_extension": ".py",
   "mimetype": "text/x-python",
   "name": "python",
   "nbconvert_exporter": "python",
   "pygments_lexer": "ipython3",
   "version": "3.10.12"
  },
  "papermill": {
   "default_parameters": {},
   "duration": 11.130859,
   "end_time": "2024-03-02T09:21:11.734950",
   "environment_variables": {},
   "exception": null,
   "input_path": "__notebook__.ipynb",
   "output_path": "__notebook__.ipynb",
   "parameters": {},
   "start_time": "2024-03-02T09:21:00.604091",
   "version": "2.4.0"
  }
 },
 "nbformat": 4,
 "nbformat_minor": 5
}
