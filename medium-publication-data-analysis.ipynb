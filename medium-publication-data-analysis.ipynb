{
 "cells": [
  {
   "cell_type": "markdown",
   "id": "7b30329b",
   "metadata": {
    "papermill": {
     "duration": 0.012293,
     "end_time": "2024-03-02T09:06:12.167880",
     "exception": false,
     "start_time": "2024-03-02T09:06:12.155587",
     "status": "completed"
    },
    "tags": []
   },
   "source": [
    "# THIS PROJECT IS A DETAILED ANALYSIS OF THE MEDIUM PUBLICATIONS"
   ]
  },
  {
   "cell_type": "code",
   "execution_count": 1,
   "id": "4d05a386",
   "metadata": {
    "execution": {
     "iopub.execute_input": "2024-03-02T09:06:12.193655Z",
     "iopub.status.busy": "2024-03-02T09:06:12.193267Z",
     "iopub.status.idle": "2024-03-02T09:06:14.584143Z",
     "shell.execute_reply": "2024-03-02T09:06:14.582493Z"
    },
    "papermill": {
     "duration": 2.407803,
     "end_time": "2024-03-02T09:06:14.587644",
     "exception": false,
     "start_time": "2024-03-02T09:06:12.179841",
     "status": "completed"
    },
    "tags": []
   },
   "outputs": [],
   "source": [
    "import numpy as np \n",
    "import pandas as pd \n",
    "import matplotlib.pyplot as plt\n",
    "%matplotlib inline\n",
    "import seaborn as sns"
   ]
  },
  {
   "cell_type": "code",
   "execution_count": 2,
   "id": "495a28ae",
   "metadata": {
    "execution": {
     "iopub.execute_input": "2024-03-02T09:06:14.624803Z",
     "iopub.status.busy": "2024-03-02T09:06:14.623460Z",
     "iopub.status.idle": "2024-03-02T09:06:14.738873Z",
     "shell.execute_reply": "2024-03-02T09:06:14.737779Z"
    },
    "papermill": {
     "duration": 0.134489,
     "end_time": "2024-03-02T09:06:14.741593",
     "exception": false,
     "start_time": "2024-03-02T09:06:14.607104",
     "status": "completed"
    },
    "tags": []
   },
   "outputs": [],
   "source": [
    "medium = pd.read_csv(\"/kaggle/input/medium-articles-dataset/medium_data.csv\")"
   ]
  },
  {
   "cell_type": "code",
   "execution_count": 3,
   "id": "ff7f09b8",
   "metadata": {
    "execution": {
     "iopub.execute_input": "2024-03-02T09:06:14.769346Z",
     "iopub.status.busy": "2024-03-02T09:06:14.768141Z",
     "iopub.status.idle": "2024-03-02T09:06:14.777603Z",
     "shell.execute_reply": "2024-03-02T09:06:14.776571Z"
    },
    "papermill": {
     "duration": 0.025962,
     "end_time": "2024-03-02T09:06:14.779928",
     "exception": false,
     "start_time": "2024-03-02T09:06:14.753966",
     "status": "completed"
    },
    "tags": []
   },
   "outputs": [
    {
     "data": {
      "text/plain": [
       "(6508, 10)"
      ]
     },
     "execution_count": 3,
     "metadata": {},
     "output_type": "execute_result"
    }
   ],
   "source": [
    "medium.shape"
   ]
  },
  {
   "cell_type": "code",
   "execution_count": 4,
   "id": "f38fd003",
   "metadata": {
    "execution": {
     "iopub.execute_input": "2024-03-02T09:06:14.809230Z",
     "iopub.status.busy": "2024-03-02T09:06:14.808675Z",
     "iopub.status.idle": "2024-03-02T09:06:14.841557Z",
     "shell.execute_reply": "2024-03-02T09:06:14.840333Z"
    },
    "papermill": {
     "duration": 0.050288,
     "end_time": "2024-03-02T09:06:14.843938",
     "exception": false,
     "start_time": "2024-03-02T09:06:14.793650",
     "status": "completed"
    },
    "tags": []
   },
   "outputs": [
    {
     "data": {
      "text/html": [
       "<div>\n",
       "<style scoped>\n",
       "    .dataframe tbody tr th:only-of-type {\n",
       "        vertical-align: middle;\n",
       "    }\n",
       "\n",
       "    .dataframe tbody tr th {\n",
       "        vertical-align: top;\n",
       "    }\n",
       "\n",
       "    .dataframe thead th {\n",
       "        text-align: right;\n",
       "    }\n",
       "</style>\n",
       "<table border=\"1\" class=\"dataframe\">\n",
       "  <thead>\n",
       "    <tr style=\"text-align: right;\">\n",
       "      <th></th>\n",
       "      <th>id</th>\n",
       "      <th>url</th>\n",
       "      <th>title</th>\n",
       "      <th>subtitle</th>\n",
       "      <th>image</th>\n",
       "      <th>claps</th>\n",
       "      <th>responses</th>\n",
       "      <th>reading_time</th>\n",
       "      <th>publication</th>\n",
       "      <th>date</th>\n",
       "    </tr>\n",
       "  </thead>\n",
       "  <tbody>\n",
       "    <tr>\n",
       "      <th>0</th>\n",
       "      <td>1</td>\n",
       "      <td>https://towardsdatascience.com/a-beginners-gui...</td>\n",
       "      <td>A Beginner’s Guide to Word Embedding with Gens...</td>\n",
       "      <td>NaN</td>\n",
       "      <td>1.png</td>\n",
       "      <td>850</td>\n",
       "      <td>8</td>\n",
       "      <td>8</td>\n",
       "      <td>Towards Data Science</td>\n",
       "      <td>2019-05-30</td>\n",
       "    </tr>\n",
       "    <tr>\n",
       "      <th>1</th>\n",
       "      <td>2</td>\n",
       "      <td>https://towardsdatascience.com/hands-on-graph-...</td>\n",
       "      <td>Hands-on Graph Neural Networks with PyTorch &amp; ...</td>\n",
       "      <td>NaN</td>\n",
       "      <td>2.png</td>\n",
       "      <td>1100</td>\n",
       "      <td>11</td>\n",
       "      <td>9</td>\n",
       "      <td>Towards Data Science</td>\n",
       "      <td>2019-05-30</td>\n",
       "    </tr>\n",
       "    <tr>\n",
       "      <th>2</th>\n",
       "      <td>3</td>\n",
       "      <td>https://towardsdatascience.com/how-to-use-ggpl...</td>\n",
       "      <td>How to Use ggplot2 in Python</td>\n",
       "      <td>A Grammar of Graphics for Python</td>\n",
       "      <td>3.png</td>\n",
       "      <td>767</td>\n",
       "      <td>1</td>\n",
       "      <td>5</td>\n",
       "      <td>Towards Data Science</td>\n",
       "      <td>2019-05-30</td>\n",
       "    </tr>\n",
       "    <tr>\n",
       "      <th>3</th>\n",
       "      <td>4</td>\n",
       "      <td>https://towardsdatascience.com/databricks-how-...</td>\n",
       "      <td>Databricks: How to Save Files in CSV on Your L...</td>\n",
       "      <td>When I work on Python projects dealing…</td>\n",
       "      <td>4.jpeg</td>\n",
       "      <td>354</td>\n",
       "      <td>0</td>\n",
       "      <td>4</td>\n",
       "      <td>Towards Data Science</td>\n",
       "      <td>2019-05-30</td>\n",
       "    </tr>\n",
       "    <tr>\n",
       "      <th>4</th>\n",
       "      <td>5</td>\n",
       "      <td>https://towardsdatascience.com/a-step-by-step-...</td>\n",
       "      <td>A Step-by-Step Implementation of Gradient Desc...</td>\n",
       "      <td>One example of building neural…</td>\n",
       "      <td>5.jpeg</td>\n",
       "      <td>211</td>\n",
       "      <td>3</td>\n",
       "      <td>4</td>\n",
       "      <td>Towards Data Science</td>\n",
       "      <td>2019-05-30</td>\n",
       "    </tr>\n",
       "  </tbody>\n",
       "</table>\n",
       "</div>"
      ],
      "text/plain": [
       "   id                                                url  \\\n",
       "0   1  https://towardsdatascience.com/a-beginners-gui...   \n",
       "1   2  https://towardsdatascience.com/hands-on-graph-...   \n",
       "2   3  https://towardsdatascience.com/how-to-use-ggpl...   \n",
       "3   4  https://towardsdatascience.com/databricks-how-...   \n",
       "4   5  https://towardsdatascience.com/a-step-by-step-...   \n",
       "\n",
       "                                               title  \\\n",
       "0  A Beginner’s Guide to Word Embedding with Gens...   \n",
       "1  Hands-on Graph Neural Networks with PyTorch & ...   \n",
       "2                       How to Use ggplot2 in Python   \n",
       "3  Databricks: How to Save Files in CSV on Your L...   \n",
       "4  A Step-by-Step Implementation of Gradient Desc...   \n",
       "\n",
       "                                  subtitle   image  claps responses  \\\n",
       "0                                      NaN   1.png    850         8   \n",
       "1                                      NaN   2.png   1100        11   \n",
       "2         A Grammar of Graphics for Python   3.png    767         1   \n",
       "3  When I work on Python projects dealing…  4.jpeg    354         0   \n",
       "4          One example of building neural…  5.jpeg    211         3   \n",
       "\n",
       "   reading_time           publication        date  \n",
       "0             8  Towards Data Science  2019-05-30  \n",
       "1             9  Towards Data Science  2019-05-30  \n",
       "2             5  Towards Data Science  2019-05-30  \n",
       "3             4  Towards Data Science  2019-05-30  \n",
       "4             4  Towards Data Science  2019-05-30  "
      ]
     },
     "execution_count": 4,
     "metadata": {},
     "output_type": "execute_result"
    }
   ],
   "source": [
    "medium.head()"
   ]
  },
  {
   "cell_type": "code",
   "execution_count": 5,
   "id": "137f44bb",
   "metadata": {
    "execution": {
     "iopub.execute_input": "2024-03-02T09:06:14.872941Z",
     "iopub.status.busy": "2024-03-02T09:06:14.872176Z",
     "iopub.status.idle": "2024-03-02T09:06:14.892070Z",
     "shell.execute_reply": "2024-03-02T09:06:14.890707Z"
    },
    "papermill": {
     "duration": 0.037784,
     "end_time": "2024-03-02T09:06:14.895136",
     "exception": false,
     "start_time": "2024-03-02T09:06:14.857352",
     "status": "completed"
    },
    "tags": []
   },
   "outputs": [
    {
     "data": {
      "text/html": [
       "<div>\n",
       "<style scoped>\n",
       "    .dataframe tbody tr th:only-of-type {\n",
       "        vertical-align: middle;\n",
       "    }\n",
       "\n",
       "    .dataframe tbody tr th {\n",
       "        vertical-align: top;\n",
       "    }\n",
       "\n",
       "    .dataframe thead th {\n",
       "        text-align: right;\n",
       "    }\n",
       "</style>\n",
       "<table border=\"1\" class=\"dataframe\">\n",
       "  <thead>\n",
       "    <tr style=\"text-align: right;\">\n",
       "      <th></th>\n",
       "      <th>id</th>\n",
       "      <th>url</th>\n",
       "      <th>title</th>\n",
       "      <th>subtitle</th>\n",
       "      <th>image</th>\n",
       "      <th>claps</th>\n",
       "      <th>responses</th>\n",
       "      <th>reading_time</th>\n",
       "      <th>publication</th>\n",
       "      <th>date</th>\n",
       "    </tr>\n",
       "  </thead>\n",
       "  <tbody>\n",
       "    <tr>\n",
       "      <th>6503</th>\n",
       "      <td>6504</td>\n",
       "      <td>https://medium.com/better-marketing/we-vs-i-ho...</td>\n",
       "      <td>“We” vs “I” — How Should You Talk About Yourse...</td>\n",
       "      <td>Basic copywriting choices with a big…</td>\n",
       "      <td>6504.jpg</td>\n",
       "      <td>661</td>\n",
       "      <td>6</td>\n",
       "      <td>6</td>\n",
       "      <td>Better Marketing</td>\n",
       "      <td>2019-12-05</td>\n",
       "    </tr>\n",
       "    <tr>\n",
       "      <th>6504</th>\n",
       "      <td>6505</td>\n",
       "      <td>https://medium.com/better-marketing/how-donald...</td>\n",
       "      <td>How Donald Trump Markets Himself</td>\n",
       "      <td>Lessons from who might be the most popular bra...</td>\n",
       "      <td>6505.jpeg</td>\n",
       "      <td>189</td>\n",
       "      <td>1</td>\n",
       "      <td>5</td>\n",
       "      <td>Better Marketing</td>\n",
       "      <td>2019-12-05</td>\n",
       "    </tr>\n",
       "    <tr>\n",
       "      <th>6505</th>\n",
       "      <td>6506</td>\n",
       "      <td>https://medium.com/better-marketing/content-an...</td>\n",
       "      <td>Content and Marketing Beyond Mass Consumption</td>\n",
       "      <td>How to acquire customers without wasting money...</td>\n",
       "      <td>6506.jpg</td>\n",
       "      <td>207</td>\n",
       "      <td>1</td>\n",
       "      <td>8</td>\n",
       "      <td>Better Marketing</td>\n",
       "      <td>2019-12-05</td>\n",
       "    </tr>\n",
       "    <tr>\n",
       "      <th>6506</th>\n",
       "      <td>6507</td>\n",
       "      <td>https://medium.com/better-marketing/5-question...</td>\n",
       "      <td>5 Questions All Copywriters Should Ask Clients...</td>\n",
       "      <td>Save time and effort by…</td>\n",
       "      <td>6507.jpg</td>\n",
       "      <td>253</td>\n",
       "      <td>2</td>\n",
       "      <td>5</td>\n",
       "      <td>Better Marketing</td>\n",
       "      <td>2019-12-05</td>\n",
       "    </tr>\n",
       "    <tr>\n",
       "      <th>6507</th>\n",
       "      <td>6508</td>\n",
       "      <td>https://medium.com/better-marketing/how-to-wri...</td>\n",
       "      <td>How To Write a Good Business Blog Post</td>\n",
       "      <td>An A-to-Z guide for non-writers</td>\n",
       "      <td>6508.jpg</td>\n",
       "      <td>147</td>\n",
       "      <td>0</td>\n",
       "      <td>9</td>\n",
       "      <td>Better Marketing</td>\n",
       "      <td>2019-12-05</td>\n",
       "    </tr>\n",
       "  </tbody>\n",
       "</table>\n",
       "</div>"
      ],
      "text/plain": [
       "        id                                                url  \\\n",
       "6503  6504  https://medium.com/better-marketing/we-vs-i-ho...   \n",
       "6504  6505  https://medium.com/better-marketing/how-donald...   \n",
       "6505  6506  https://medium.com/better-marketing/content-an...   \n",
       "6506  6507  https://medium.com/better-marketing/5-question...   \n",
       "6507  6508  https://medium.com/better-marketing/how-to-wri...   \n",
       "\n",
       "                                                  title  \\\n",
       "6503  “We” vs “I” — How Should You Talk About Yourse...   \n",
       "6504                   How Donald Trump Markets Himself   \n",
       "6505      Content and Marketing Beyond Mass Consumption   \n",
       "6506  5 Questions All Copywriters Should Ask Clients...   \n",
       "6507             How To Write a Good Business Blog Post   \n",
       "\n",
       "                                               subtitle      image  claps  \\\n",
       "6503              Basic copywriting choices with a big…   6504.jpg    661   \n",
       "6504  Lessons from who might be the most popular bra...  6505.jpeg    189   \n",
       "6505  How to acquire customers without wasting money...   6506.jpg    207   \n",
       "6506                           Save time and effort by…   6507.jpg    253   \n",
       "6507                    An A-to-Z guide for non-writers   6508.jpg    147   \n",
       "\n",
       "     responses  reading_time       publication        date  \n",
       "6503         6             6  Better Marketing  2019-12-05  \n",
       "6504         1             5  Better Marketing  2019-12-05  \n",
       "6505         1             8  Better Marketing  2019-12-05  \n",
       "6506         2             5  Better Marketing  2019-12-05  \n",
       "6507         0             9  Better Marketing  2019-12-05  "
      ]
     },
     "execution_count": 5,
     "metadata": {},
     "output_type": "execute_result"
    }
   ],
   "source": [
    "medium.tail() "
   ]
  },
  {
   "cell_type": "code",
   "execution_count": 6,
   "id": "72648fed",
   "metadata": {
    "execution": {
     "iopub.execute_input": "2024-03-02T09:06:14.924097Z",
     "iopub.status.busy": "2024-03-02T09:06:14.922943Z",
     "iopub.status.idle": "2024-03-02T09:06:14.931985Z",
     "shell.execute_reply": "2024-03-02T09:06:14.930740Z"
    },
    "papermill": {
     "duration": 0.025877,
     "end_time": "2024-03-02T09:06:14.934595",
     "exception": false,
     "start_time": "2024-03-02T09:06:14.908718",
     "status": "completed"
    },
    "tags": []
   },
   "outputs": [
    {
     "data": {
      "text/plain": [
       "id               int64\n",
       "url             object\n",
       "title           object\n",
       "subtitle        object\n",
       "image           object\n",
       "claps            int64\n",
       "responses       object\n",
       "reading_time     int64\n",
       "publication     object\n",
       "date            object\n",
       "dtype: object"
      ]
     },
     "execution_count": 6,
     "metadata": {},
     "output_type": "execute_result"
    }
   ],
   "source": [
    "medium.dtypes"
   ]
  },
  {
   "cell_type": "code",
   "execution_count": 7,
   "id": "f9e898bc",
   "metadata": {
    "execution": {
     "iopub.execute_input": "2024-03-02T09:06:14.962545Z",
     "iopub.status.busy": "2024-03-02T09:06:14.962129Z",
     "iopub.status.idle": "2024-03-02T09:06:15.080600Z",
     "shell.execute_reply": "2024-03-02T09:06:15.078998Z"
    },
    "papermill": {
     "duration": 0.135592,
     "end_time": "2024-03-02T09:06:15.083414",
     "exception": false,
     "start_time": "2024-03-02T09:06:14.947822",
     "status": "completed"
    },
    "tags": []
   },
   "outputs": [
    {
     "name": "stdout",
     "output_type": "stream",
     "text": [
      "<class 'pandas.core.frame.DataFrame'>\n",
      "RangeIndex: 6508 entries, 0 to 6507\n",
      "Data columns (total 10 columns):\n",
      " #   Column        Non-Null Count  Dtype \n",
      "---  ------        --------------  ----- \n",
      " 0   id            6508 non-null   int64 \n",
      " 1   url           6508 non-null   object\n",
      " 2   title         6508 non-null   object\n",
      " 3   subtitle      3479 non-null   object\n",
      " 4   image         6361 non-null   object\n",
      " 5   claps         6508 non-null   int64 \n",
      " 6   responses     6508 non-null   object\n",
      " 7   reading_time  6508 non-null   int64 \n",
      " 8   publication   6508 non-null   object\n",
      " 9   date          6508 non-null   object\n",
      "dtypes: int64(3), object(7)\n",
      "memory usage: 508.6+ KB\n"
     ]
    }
   ],
   "source": [
    "medium.info()"
   ]
  },
  {
   "cell_type": "markdown",
   "id": "a7ab23e1",
   "metadata": {
    "papermill": {
     "duration": 0.012745,
     "end_time": "2024-03-02T09:06:15.109578",
     "exception": false,
     "start_time": "2024-03-02T09:06:15.096833",
     "status": "completed"
    },
    "tags": []
   },
   "source": [
    "## Top 5 medium publications by the total number of claps"
   ]
  },
  {
   "cell_type": "code",
   "execution_count": 8,
   "id": "45101d6a",
   "metadata": {
    "execution": {
     "iopub.execute_input": "2024-03-02T09:06:15.137788Z",
     "iopub.status.busy": "2024-03-02T09:06:15.137318Z",
     "iopub.status.idle": "2024-03-02T09:06:15.148254Z",
     "shell.execute_reply": "2024-03-02T09:06:15.147356Z"
    },
    "papermill": {
     "duration": 0.028328,
     "end_time": "2024-03-02T09:06:15.150983",
     "exception": false,
     "start_time": "2024-03-02T09:06:15.122655",
     "status": "completed"
    },
    "tags": []
   },
   "outputs": [
    {
     "data": {
      "text/plain": [
       "publication\n",
       "The Startup                922651\n",
       "Towards Data Science       414386\n",
       "UX Collective              211413\n",
       "Better Marketing           200702\n",
       "The Writing Cooperative    150216\n",
       "Name: claps, dtype: int64"
      ]
     },
     "execution_count": 8,
     "metadata": {},
     "output_type": "execute_result"
    }
   ],
   "source": [
    "x=medium.groupby('publication')[\"claps\"].sum().sort_values(ascending=False)[:5]\n",
    "x"
   ]
  },
  {
   "cell_type": "code",
   "execution_count": 9,
   "id": "ab6dde41",
   "metadata": {
    "execution": {
     "iopub.execute_input": "2024-03-02T09:06:15.182382Z",
     "iopub.status.busy": "2024-03-02T09:06:15.181466Z",
     "iopub.status.idle": "2024-03-02T09:06:15.590127Z",
     "shell.execute_reply": "2024-03-02T09:06:15.589254Z"
    },
    "papermill": {
     "duration": 0.426959,
     "end_time": "2024-03-02T09:06:15.592593",
     "exception": false,
     "start_time": "2024-03-02T09:06:15.165634",
     "status": "completed"
    },
    "tags": []
   },
   "outputs": [
    {
     "data": {
      "image/png": "[encoded data removed]",
      "text/plain": [
       "<Figure size 800x700 with 1 Axes>"
      ]
     },
     "metadata": {},
     "output_type": "display_data"
    }
   ],
   "source": [
    "x.plot.bar(color='#667213',figsize=(8,7))\n",
    "plt.xlabel('No of claps',fontdict={'fontsize':12,'fontweight':'bold'})\n",
    "plt.ylabel('Publication',fontdict={'fontsize':12,'fontweight':'bold'})\n",
    "plt.title('Top 5 medium publication based on the total number of claps',fontdict={'fontsize':12,'fontweight':'bold'});"
   ]
  },
  {
   "cell_type": "code",
   "execution_count": 10,
   "id": "1808ffe0",
   "metadata": {
    "execution": {
     "iopub.execute_input": "2024-03-02T09:06:15.624749Z",
     "iopub.status.busy": "2024-03-02T09:06:15.623639Z",
     "iopub.status.idle": "2024-03-02T09:06:15.631440Z",
     "shell.execute_reply": "2024-03-02T09:06:15.630241Z"
    },
    "papermill": {
     "duration": 0.02629,
     "end_time": "2024-03-02T09:06:15.633759",
     "exception": false,
     "start_time": "2024-03-02T09:06:15.607469",
     "status": "completed"
    },
    "tags": []
   },
   "outputs": [
    {
     "data": {
      "text/plain": [
       "['id',\n",
       " 'url',\n",
       " 'title',\n",
       " 'subtitle',\n",
       " 'image',\n",
       " 'claps',\n",
       " 'responses',\n",
       " 'reading_time',\n",
       " 'publication',\n",
       " 'date']"
      ]
     },
     "execution_count": 10,
     "metadata": {},
     "output_type": "execute_result"
    }
   ],
   "source": [
    "medium.columns.tolist()"
   ]
  },
  {
   "cell_type": "code",
   "execution_count": 11,
   "id": "1a0fdb82",
   "metadata": {
    "execution": {
     "iopub.execute_input": "2024-03-02T09:06:15.665248Z",
     "iopub.status.busy": "2024-03-02T09:06:15.664824Z",
     "iopub.status.idle": "2024-03-02T09:06:15.683081Z",
     "shell.execute_reply": "2024-03-02T09:06:15.682006Z"
    },
    "papermill": {
     "duration": 0.037313,
     "end_time": "2024-03-02T09:06:15.685430",
     "exception": false,
     "start_time": "2024-03-02T09:06:15.648117",
     "status": "completed"
    },
    "tags": []
   },
   "outputs": [
    {
     "data": {
      "text/html": [
       "<div>\n",
       "<style scoped>\n",
       "    .dataframe tbody tr th:only-of-type {\n",
       "        vertical-align: middle;\n",
       "    }\n",
       "\n",
       "    .dataframe tbody tr th {\n",
       "        vertical-align: top;\n",
       "    }\n",
       "\n",
       "    .dataframe thead th {\n",
       "        text-align: right;\n",
       "    }\n",
       "</style>\n",
       "<table border=\"1\" class=\"dataframe\">\n",
       "  <thead>\n",
       "    <tr style=\"text-align: right;\">\n",
       "      <th></th>\n",
       "      <th>url</th>\n",
       "      <th>title</th>\n",
       "      <th>subtitle</th>\n",
       "      <th>image</th>\n",
       "      <th>responses</th>\n",
       "      <th>publication</th>\n",
       "      <th>date</th>\n",
       "    </tr>\n",
       "  </thead>\n",
       "  <tbody>\n",
       "    <tr>\n",
       "      <th>0</th>\n",
       "      <td>https://towardsdatascience.com/a-beginners-gui...</td>\n",
       "      <td>A Beginner’s Guide to Word Embedding with Gens...</td>\n",
       "      <td>NaN</td>\n",
       "      <td>1.png</td>\n",
       "      <td>8</td>\n",
       "      <td>Towards Data Science</td>\n",
       "      <td>2019-05-30</td>\n",
       "    </tr>\n",
       "    <tr>\n",
       "      <th>1</th>\n",
       "      <td>https://towardsdatascience.com/hands-on-graph-...</td>\n",
       "      <td>Hands-on Graph Neural Networks with PyTorch &amp; ...</td>\n",
       "      <td>NaN</td>\n",
       "      <td>2.png</td>\n",
       "      <td>11</td>\n",
       "      <td>Towards Data Science</td>\n",
       "      <td>2019-05-30</td>\n",
       "    </tr>\n",
       "    <tr>\n",
       "      <th>2</th>\n",
       "      <td>https://towardsdatascience.com/how-to-use-ggpl...</td>\n",
       "      <td>How to Use ggplot2 in Python</td>\n",
       "      <td>A Grammar of Graphics for Python</td>\n",
       "      <td>3.png</td>\n",
       "      <td>1</td>\n",
       "      <td>Towards Data Science</td>\n",
       "      <td>2019-05-30</td>\n",
       "    </tr>\n",
       "    <tr>\n",
       "      <th>3</th>\n",
       "      <td>https://towardsdatascience.com/databricks-how-...</td>\n",
       "      <td>Databricks: How to Save Files in CSV on Your L...</td>\n",
       "      <td>When I work on Python projects dealing…</td>\n",
       "      <td>4.jpeg</td>\n",
       "      <td>0</td>\n",
       "      <td>Towards Data Science</td>\n",
       "      <td>2019-05-30</td>\n",
       "    </tr>\n",
       "    <tr>\n",
       "      <th>4</th>\n",
       "      <td>https://towardsdatascience.com/a-step-by-step-...</td>\n",
       "      <td>A Step-by-Step Implementation of Gradient Desc...</td>\n",
       "      <td>One example of building neural…</td>\n",
       "      <td>5.jpeg</td>\n",
       "      <td>3</td>\n",
       "      <td>Towards Data Science</td>\n",
       "      <td>2019-05-30</td>\n",
       "    </tr>\n",
       "    <tr>\n",
       "      <th>...</th>\n",
       "      <td>...</td>\n",
       "      <td>...</td>\n",
       "      <td>...</td>\n",
       "      <td>...</td>\n",
       "      <td>...</td>\n",
       "      <td>...</td>\n",
       "      <td>...</td>\n",
       "    </tr>\n",
       "    <tr>\n",
       "      <th>6503</th>\n",
       "      <td>https://medium.com/better-marketing/we-vs-i-ho...</td>\n",
       "      <td>“We” vs “I” — How Should You Talk About Yourse...</td>\n",
       "      <td>Basic copywriting choices with a big…</td>\n",
       "      <td>6504.jpg</td>\n",
       "      <td>6</td>\n",
       "      <td>Better Marketing</td>\n",
       "      <td>2019-12-05</td>\n",
       "    </tr>\n",
       "    <tr>\n",
       "      <th>6504</th>\n",
       "      <td>https://medium.com/better-marketing/how-donald...</td>\n",
       "      <td>How Donald Trump Markets Himself</td>\n",
       "      <td>Lessons from who might be the most popular bra...</td>\n",
       "      <td>6505.jpeg</td>\n",
       "      <td>1</td>\n",
       "      <td>Better Marketing</td>\n",
       "      <td>2019-12-05</td>\n",
       "    </tr>\n",
       "    <tr>\n",
       "      <th>6505</th>\n",
       "      <td>https://medium.com/better-marketing/content-an...</td>\n",
       "      <td>Content and Marketing Beyond Mass Consumption</td>\n",
       "      <td>How to acquire customers without wasting money...</td>\n",
       "      <td>6506.jpg</td>\n",
       "      <td>1</td>\n",
       "      <td>Better Marketing</td>\n",
       "      <td>2019-12-05</td>\n",
       "    </tr>\n",
       "    <tr>\n",
       "      <th>6506</th>\n",
       "      <td>https://medium.com/better-marketing/5-question...</td>\n",
       "      <td>5 Questions All Copywriters Should Ask Clients...</td>\n",
       "      <td>Save time and effort by…</td>\n",
       "      <td>6507.jpg</td>\n",
       "      <td>2</td>\n",
       "      <td>Better Marketing</td>\n",
       "      <td>2019-12-05</td>\n",
       "    </tr>\n",
       "    <tr>\n",
       "      <th>6507</th>\n",
       "      <td>https://medium.com/better-marketing/how-to-wri...</td>\n",
       "      <td>How To Write a Good Business Blog Post</td>\n",
       "      <td>An A-to-Z guide for non-writers</td>\n",
       "      <td>6508.jpg</td>\n",
       "      <td>0</td>\n",
       "      <td>Better Marketing</td>\n",
       "      <td>2019-12-05</td>\n",
       "    </tr>\n",
       "  </tbody>\n",
       "</table>\n",
       "<p>6508 rows × 7 columns</p>\n",
       "</div>"
      ],
      "text/plain": [
       "                                                    url  \\\n",
       "0     https://towardsdatascience.com/a-beginners-gui...   \n",
       "1     https://towardsdatascience.com/hands-on-graph-...   \n",
       "2     https://towardsdatascience.com/how-to-use-ggpl...   \n",
       "3     https://towardsdatascience.com/databricks-how-...   \n",
       "4     https://towardsdatascience.com/a-step-by-step-...   \n",
       "...                                                 ...   \n",
       "6503  https://medium.com/better-marketing/we-vs-i-ho...   \n",
       "6504  https://medium.com/better-marketing/how-donald...   \n",
       "6505  https://medium.com/better-marketing/content-an...   \n",
       "6506  https://medium.com/better-marketing/5-question...   \n",
       "6507  https://medium.com/better-marketing/how-to-wri...   \n",
       "\n",
       "                                                  title  \\\n",
       "0     A Beginner’s Guide to Word Embedding with Gens...   \n",
       "1     Hands-on Graph Neural Networks with PyTorch & ...   \n",
       "2                          How to Use ggplot2 in Python   \n",
       "3     Databricks: How to Save Files in CSV on Your L...   \n",
       "4     A Step-by-Step Implementation of Gradient Desc...   \n",
       "...                                                 ...   \n",
       "6503  “We” vs “I” — How Should You Talk About Yourse...   \n",
       "6504                   How Donald Trump Markets Himself   \n",
       "6505      Content and Marketing Beyond Mass Consumption   \n",
       "6506  5 Questions All Copywriters Should Ask Clients...   \n",
       "6507             How To Write a Good Business Blog Post   \n",
       "\n",
       "                                               subtitle      image responses  \\\n",
       "0                                                   NaN      1.png         8   \n",
       "1                                                   NaN      2.png        11   \n",
       "2                      A Grammar of Graphics for Python      3.png         1   \n",
       "3               When I work on Python projects dealing…     4.jpeg         0   \n",
       "4                       One example of building neural…     5.jpeg         3   \n",
       "...                                                 ...        ...       ...   \n",
       "6503              Basic copywriting choices with a big…   6504.jpg         6   \n",
       "6504  Lessons from who might be the most popular bra...  6505.jpeg         1   \n",
       "6505  How to acquire customers without wasting money...   6506.jpg         1   \n",
       "6506                           Save time and effort by…   6507.jpg         2   \n",
       "6507                    An A-to-Z guide for non-writers   6508.jpg         0   \n",
       "\n",
       "               publication        date  \n",
       "0     Towards Data Science  2019-05-30  \n",
       "1     Towards Data Science  2019-05-30  \n",
       "2     Towards Data Science  2019-05-30  \n",
       "3     Towards Data Science  2019-05-30  \n",
       "4     Towards Data Science  2019-05-30  \n",
       "...                    ...         ...  \n",
       "6503      Better Marketing  2019-12-05  \n",
       "6504      Better Marketing  2019-12-05  \n",
       "6505      Better Marketing  2019-12-05  \n",
       "6506      Better Marketing  2019-12-05  \n",
       "6507      Better Marketing  2019-12-05  \n",
       "\n",
       "[6508 rows x 7 columns]"
      ]
     },
     "execution_count": 11,
     "metadata": {},
     "output_type": "execute_result"
    }
   ],
   "source": [
    "medium.select_dtypes(include='object')"
   ]
  },
  {
   "cell_type": "code",
   "execution_count": 12,
   "id": "babeecc5",
   "metadata": {
    "execution": {
     "iopub.execute_input": "2024-03-02T09:06:15.717018Z",
     "iopub.status.busy": "2024-03-02T09:06:15.716604Z",
     "iopub.status.idle": "2024-03-02T09:06:15.724245Z",
     "shell.execute_reply": "2024-03-02T09:06:15.723397Z"
    },
    "papermill": {
     "duration": 0.026426,
     "end_time": "2024-03-02T09:06:15.726609",
     "exception": false,
     "start_time": "2024-03-02T09:06:15.700183",
     "status": "completed"
    },
    "tags": []
   },
   "outputs": [
    {
     "data": {
      "text/plain": [
       "id               int64\n",
       "url             object\n",
       "title           object\n",
       "subtitle        object\n",
       "image           object\n",
       "claps            int64\n",
       "responses       object\n",
       "reading_time     int64\n",
       "publication     object\n",
       "date            object\n",
       "dtype: object"
      ]
     },
     "execution_count": 12,
     "metadata": {},
     "output_type": "execute_result"
    }
   ],
   "source": [
    "medium.dtypes"
   ]
  },
  {
   "cell_type": "code",
   "execution_count": 13,
   "id": "dd3a3abb",
   "metadata": {
    "execution": {
     "iopub.execute_input": "2024-03-02T09:06:15.758400Z",
     "iopub.status.busy": "2024-03-02T09:06:15.757673Z",
     "iopub.status.idle": "2024-03-02T09:06:15.774264Z",
     "shell.execute_reply": "2024-03-02T09:06:15.772954Z"
    },
    "papermill": {
     "duration": 0.035583,
     "end_time": "2024-03-02T09:06:15.777003",
     "exception": false,
     "start_time": "2024-03-02T09:06:15.741420",
     "status": "completed"
    },
    "tags": []
   },
   "outputs": [],
   "source": [
    "medium['date']=pd.to_datetime(medium['date'])"
   ]
  },
  {
   "cell_type": "code",
   "execution_count": 14,
   "id": "6dabf6b7",
   "metadata": {
    "execution": {
     "iopub.execute_input": "2024-03-02T09:06:15.809604Z",
     "iopub.status.busy": "2024-03-02T09:06:15.809190Z",
     "iopub.status.idle": "2024-03-02T09:06:15.817723Z",
     "shell.execute_reply": "2024-03-02T09:06:15.816615Z"
    },
    "papermill": {
     "duration": 0.027261,
     "end_time": "2024-03-02T09:06:15.820109",
     "exception": false,
     "start_time": "2024-03-02T09:06:15.792848",
     "status": "completed"
    },
    "tags": []
   },
   "outputs": [
    {
     "data": {
      "text/plain": [
       "id                       int64\n",
       "url                     object\n",
       "title                   object\n",
       "subtitle                object\n",
       "image                   object\n",
       "claps                    int64\n",
       "responses               object\n",
       "reading_time             int64\n",
       "publication             object\n",
       "date            datetime64[ns]\n",
       "dtype: object"
      ]
     },
     "execution_count": 14,
     "metadata": {},
     "output_type": "execute_result"
    }
   ],
   "source": [
    "medium.dtypes"
   ]
  },
  {
   "cell_type": "markdown",
   "id": "22d2c011",
   "metadata": {
    "papermill": {
     "duration": 0.014508,
     "end_time": "2024-03-02T09:06:15.849450",
     "exception": false,
     "start_time": "2024-03-02T09:06:15.834942",
     "status": "completed"
    },
    "tags": []
   },
   "source": [
    "## Maximum Number of claps"
   ]
  },
  {
   "cell_type": "code",
   "execution_count": 15,
   "id": "97829961",
   "metadata": {
    "execution": {
     "iopub.execute_input": "2024-03-02T09:06:15.881383Z",
     "iopub.status.busy": "2024-03-02T09:06:15.880918Z",
     "iopub.status.idle": "2024-03-02T09:06:15.889373Z",
     "shell.execute_reply": "2024-03-02T09:06:15.888097Z"
    },
    "papermill": {
     "duration": 0.027308,
     "end_time": "2024-03-02T09:06:15.891806",
     "exception": false,
     "start_time": "2024-03-02T09:06:15.864498",
     "status": "completed"
    },
    "tags": []
   },
   "outputs": [
    {
     "data": {
      "text/plain": [
       "38000"
      ]
     },
     "execution_count": 15,
     "metadata": {},
     "output_type": "execute_result"
    }
   ],
   "source": [
    "medium['claps'].max()"
   ]
  },
  {
   "cell_type": "markdown",
   "id": "4264449b",
   "metadata": {
    "papermill": {
     "duration": 0.014782,
     "end_time": "2024-03-02T09:06:15.921763",
     "exception": false,
     "start_time": "2024-03-02T09:06:15.906981",
     "status": "completed"
    },
    "tags": []
   },
   "source": [
    "## Identify the artcile with the highest number of claps"
   ]
  },
  {
   "cell_type": "code",
   "execution_count": 16,
   "id": "3b63f755",
   "metadata": {
    "execution": {
     "iopub.execute_input": "2024-03-02T09:06:15.954760Z",
     "iopub.status.busy": "2024-03-02T09:06:15.954345Z",
     "iopub.status.idle": "2024-03-02T09:06:15.962696Z",
     "shell.execute_reply": "2024-03-02T09:06:15.961229Z"
    },
    "papermill": {
     "duration": 0.029284,
     "end_time": "2024-03-02T09:06:15.966119",
     "exception": false,
     "start_time": "2024-03-02T09:06:15.936835",
     "status": "completed"
    },
    "tags": []
   },
   "outputs": [],
   "source": [
    "df=medium[medium.claps==38000]"
   ]
  },
  {
   "cell_type": "code",
   "execution_count": 17,
   "id": "ab420c31",
   "metadata": {
    "execution": {
     "iopub.execute_input": "2024-03-02T09:06:15.998947Z",
     "iopub.status.busy": "2024-03-02T09:06:15.998566Z",
     "iopub.status.idle": "2024-03-02T09:06:16.013293Z",
     "shell.execute_reply": "2024-03-02T09:06:16.012439Z"
    },
    "papermill": {
     "duration": 0.033784,
     "end_time": "2024-03-02T09:06:16.015648",
     "exception": false,
     "start_time": "2024-03-02T09:06:15.981864",
     "status": "completed"
    },
    "tags": []
   },
   "outputs": [
    {
     "data": {
      "text/html": [
       "<div>\n",
       "<style scoped>\n",
       "    .dataframe tbody tr th:only-of-type {\n",
       "        vertical-align: middle;\n",
       "    }\n",
       "\n",
       "    .dataframe tbody tr th {\n",
       "        vertical-align: top;\n",
       "    }\n",
       "\n",
       "    .dataframe thead th {\n",
       "        text-align: right;\n",
       "    }\n",
       "</style>\n",
       "<table border=\"1\" class=\"dataframe\">\n",
       "  <thead>\n",
       "    <tr style=\"text-align: right;\">\n",
       "      <th></th>\n",
       "      <th>id</th>\n",
       "      <th>url</th>\n",
       "      <th>title</th>\n",
       "      <th>subtitle</th>\n",
       "      <th>image</th>\n",
       "      <th>claps</th>\n",
       "      <th>responses</th>\n",
       "      <th>reading_time</th>\n",
       "      <th>publication</th>\n",
       "      <th>date</th>\n",
       "    </tr>\n",
       "  </thead>\n",
       "  <tbody>\n",
       "    <tr>\n",
       "      <th>4552</th>\n",
       "      <td>4553</td>\n",
       "      <td>https://medium.com/swlh/i-have-15-ideas-to-cha...</td>\n",
       "      <td>I Have 15 ideas To Change Your Life. Do you Ha...</td>\n",
       "      <td>NaN</td>\n",
       "      <td>4553.png</td>\n",
       "      <td>38000</td>\n",
       "      <td>170</td>\n",
       "      <td>5</td>\n",
       "      <td>The Startup</td>\n",
       "      <td>2019-05-20</td>\n",
       "    </tr>\n",
       "  </tbody>\n",
       "</table>\n",
       "</div>"
      ],
      "text/plain": [
       "        id                                                url  \\\n",
       "4552  4553  https://medium.com/swlh/i-have-15-ideas-to-cha...   \n",
       "\n",
       "                                                  title subtitle     image  \\\n",
       "4552  I Have 15 ideas To Change Your Life. Do you Ha...      NaN  4553.png   \n",
       "\n",
       "      claps responses  reading_time  publication       date  \n",
       "4552  38000       170             5  The Startup 2019-05-20  "
      ]
     },
     "execution_count": 17,
     "metadata": {},
     "output_type": "execute_result"
    }
   ],
   "source": [
    "df"
   ]
  },
  {
   "cell_type": "markdown",
   "id": "5b620d7a",
   "metadata": {
    "papermill": {
     "duration": 0.015279,
     "end_time": "2024-03-02T09:06:16.110700",
     "exception": false,
     "start_time": "2024-03-02T09:06:16.095421",
     "status": "completed"
    },
    "tags": []
   },
   "source": [
    "* The article with the highest number of claps is:\n",
    "\"I Have 15 ideas To Change Your Life. Do you Have 5 Minutes?\""
   ]
  },
  {
   "cell_type": "markdown",
   "id": "54ac3c23",
   "metadata": {
    "papermill": {
     "duration": 0.015145,
     "end_time": "2024-03-02T09:06:16.141534",
     "exception": false,
     "start_time": "2024-03-02T09:06:16.126389",
     "status": "completed"
    },
    "tags": []
   },
   "source": [
    "## Get the articles with the 25000 clap of less"
   ]
  },
  {
   "cell_type": "code",
   "execution_count": 18,
   "id": "970ccebe",
   "metadata": {
    "execution": {
     "iopub.execute_input": "2024-03-02T09:06:16.175891Z",
     "iopub.status.busy": "2024-03-02T09:06:16.174969Z",
     "iopub.status.idle": "2024-03-02T09:06:16.186684Z",
     "shell.execute_reply": "2024-03-02T09:06:16.185480Z"
    },
    "papermill": {
     "duration": 0.031999,
     "end_time": "2024-03-02T09:06:16.189095",
     "exception": false,
     "start_time": "2024-03-02T09:06:16.157096",
     "status": "completed"
    },
    "tags": []
   },
   "outputs": [],
   "source": [
    "df25korbelowclaps = medium.query('claps<=25000')"
   ]
  },
  {
   "cell_type": "code",
   "execution_count": 19,
   "id": "8a32211e",
   "metadata": {
    "execution": {
     "iopub.execute_input": "2024-03-02T09:06:16.222925Z",
     "iopub.status.busy": "2024-03-02T09:06:16.222540Z",
     "iopub.status.idle": "2024-03-02T09:06:16.239574Z",
     "shell.execute_reply": "2024-03-02T09:06:16.238429Z"
    },
    "papermill": {
     "duration": 0.036916,
     "end_time": "2024-03-02T09:06:16.242009",
     "exception": false,
     "start_time": "2024-03-02T09:06:16.205093",
     "status": "completed"
    },
    "tags": []
   },
   "outputs": [
    {
     "data": {
      "text/html": [
       "<div>\n",
       "<style scoped>\n",
       "    .dataframe tbody tr th:only-of-type {\n",
       "        vertical-align: middle;\n",
       "    }\n",
       "\n",
       "    .dataframe tbody tr th {\n",
       "        vertical-align: top;\n",
       "    }\n",
       "\n",
       "    .dataframe thead th {\n",
       "        text-align: right;\n",
       "    }\n",
       "</style>\n",
       "<table border=\"1\" class=\"dataframe\">\n",
       "  <thead>\n",
       "    <tr style=\"text-align: right;\">\n",
       "      <th></th>\n",
       "      <th>id</th>\n",
       "      <th>url</th>\n",
       "      <th>title</th>\n",
       "      <th>subtitle</th>\n",
       "      <th>image</th>\n",
       "      <th>claps</th>\n",
       "      <th>responses</th>\n",
       "      <th>reading_time</th>\n",
       "      <th>publication</th>\n",
       "      <th>date</th>\n",
       "    </tr>\n",
       "  </thead>\n",
       "  <tbody>\n",
       "    <tr>\n",
       "      <th>0</th>\n",
       "      <td>1</td>\n",
       "      <td>https://towardsdatascience.com/a-beginners-gui...</td>\n",
       "      <td>A Beginner’s Guide to Word Embedding with Gens...</td>\n",
       "      <td>NaN</td>\n",
       "      <td>1.png</td>\n",
       "      <td>850</td>\n",
       "      <td>8</td>\n",
       "      <td>8</td>\n",
       "      <td>Towards Data Science</td>\n",
       "      <td>2019-05-30</td>\n",
       "    </tr>\n",
       "    <tr>\n",
       "      <th>1</th>\n",
       "      <td>2</td>\n",
       "      <td>https://towardsdatascience.com/hands-on-graph-...</td>\n",
       "      <td>Hands-on Graph Neural Networks with PyTorch &amp; ...</td>\n",
       "      <td>NaN</td>\n",
       "      <td>2.png</td>\n",
       "      <td>1100</td>\n",
       "      <td>11</td>\n",
       "      <td>9</td>\n",
       "      <td>Towards Data Science</td>\n",
       "      <td>2019-05-30</td>\n",
       "    </tr>\n",
       "    <tr>\n",
       "      <th>2</th>\n",
       "      <td>3</td>\n",
       "      <td>https://towardsdatascience.com/how-to-use-ggpl...</td>\n",
       "      <td>How to Use ggplot2 in Python</td>\n",
       "      <td>A Grammar of Graphics for Python</td>\n",
       "      <td>3.png</td>\n",
       "      <td>767</td>\n",
       "      <td>1</td>\n",
       "      <td>5</td>\n",
       "      <td>Towards Data Science</td>\n",
       "      <td>2019-05-30</td>\n",
       "    </tr>\n",
       "  </tbody>\n",
       "</table>\n",
       "</div>"
      ],
      "text/plain": [
       "   id                                                url  \\\n",
       "0   1  https://towardsdatascience.com/a-beginners-gui...   \n",
       "1   2  https://towardsdatascience.com/hands-on-graph-...   \n",
       "2   3  https://towardsdatascience.com/how-to-use-ggpl...   \n",
       "\n",
       "                                               title  \\\n",
       "0  A Beginner’s Guide to Word Embedding with Gens...   \n",
       "1  Hands-on Graph Neural Networks with PyTorch & ...   \n",
       "2                       How to Use ggplot2 in Python   \n",
       "\n",
       "                           subtitle  image  claps responses  reading_time  \\\n",
       "0                               NaN  1.png    850         8             8   \n",
       "1                               NaN  2.png   1100        11             9   \n",
       "2  A Grammar of Graphics for Python  3.png    767         1             5   \n",
       "\n",
       "            publication       date  \n",
       "0  Towards Data Science 2019-05-30  \n",
       "1  Towards Data Science 2019-05-30  \n",
       "2  Towards Data Science 2019-05-30  "
      ]
     },
     "execution_count": 19,
     "metadata": {},
     "output_type": "execute_result"
    }
   ],
   "source": [
    "df25korbelowclaps.head(3)"
   ]
  },
  {
   "cell_type": "code",
   "execution_count": 20,
   "id": "22ba102f",
   "metadata": {
    "execution": {
     "iopub.execute_input": "2024-03-02T09:06:16.277563Z",
     "iopub.status.busy": "2024-03-02T09:06:16.276707Z",
     "iopub.status.idle": "2024-03-02T09:06:16.283750Z",
     "shell.execute_reply": "2024-03-02T09:06:16.282700Z"
    },
    "papermill": {
     "duration": 0.027291,
     "end_time": "2024-03-02T09:06:16.286060",
     "exception": false,
     "start_time": "2024-03-02T09:06:16.258769",
     "status": "completed"
    },
    "tags": []
   },
   "outputs": [
    {
     "data": {
      "text/plain": [
       "6507"
      ]
     },
     "execution_count": 20,
     "metadata": {},
     "output_type": "execute_result"
    }
   ],
   "source": [
    "len(df25korbelowclaps)"
   ]
  },
  {
   "cell_type": "markdown",
   "id": "243353b3",
   "metadata": {
    "papermill": {
     "duration": 0.016982,
     "end_time": "2024-03-02T09:06:16.319435",
     "exception": false,
     "start_time": "2024-03-02T09:06:16.302453",
     "status": "completed"
    },
    "tags": []
   },
   "source": [
    "## Get the articles with more than 3000 claps"
   ]
  },
  {
   "cell_type": "code",
   "execution_count": 21,
   "id": "faaf2e4e",
   "metadata": {
    "execution": {
     "iopub.execute_input": "2024-03-02T09:06:16.354830Z",
     "iopub.status.busy": "2024-03-02T09:06:16.354438Z",
     "iopub.status.idle": "2024-03-02T09:06:16.363115Z",
     "shell.execute_reply": "2024-03-02T09:06:16.361837Z"
    },
    "papermill": {
     "duration": 0.029659,
     "end_time": "2024-03-02T09:06:16.365501",
     "exception": false,
     "start_time": "2024-03-02T09:06:16.335842",
     "status": "completed"
    },
    "tags": []
   },
   "outputs": [],
   "source": [
    "dfabove3000claps = medium.query('claps>3000')"
   ]
  },
  {
   "cell_type": "code",
   "execution_count": 22,
   "id": "c7544900",
   "metadata": {
    "execution": {
     "iopub.execute_input": "2024-03-02T09:06:16.399722Z",
     "iopub.status.busy": "2024-03-02T09:06:16.399325Z",
     "iopub.status.idle": "2024-03-02T09:06:16.415733Z",
     "shell.execute_reply": "2024-03-02T09:06:16.414377Z"
    },
    "papermill": {
     "duration": 0.036772,
     "end_time": "2024-03-02T09:06:16.418402",
     "exception": false,
     "start_time": "2024-03-02T09:06:16.381630",
     "status": "completed"
    },
    "tags": []
   },
   "outputs": [
    {
     "data": {
      "text/html": [
       "<div>\n",
       "<style scoped>\n",
       "    .dataframe tbody tr th:only-of-type {\n",
       "        vertical-align: middle;\n",
       "    }\n",
       "\n",
       "    .dataframe tbody tr th {\n",
       "        vertical-align: top;\n",
       "    }\n",
       "\n",
       "    .dataframe thead th {\n",
       "        text-align: right;\n",
       "    }\n",
       "</style>\n",
       "<table border=\"1\" class=\"dataframe\">\n",
       "  <thead>\n",
       "    <tr style=\"text-align: right;\">\n",
       "      <th></th>\n",
       "      <th>id</th>\n",
       "      <th>url</th>\n",
       "      <th>title</th>\n",
       "      <th>subtitle</th>\n",
       "      <th>image</th>\n",
       "      <th>claps</th>\n",
       "      <th>responses</th>\n",
       "      <th>reading_time</th>\n",
       "      <th>publication</th>\n",
       "      <th>date</th>\n",
       "    </tr>\n",
       "  </thead>\n",
       "  <tbody>\n",
       "    <tr>\n",
       "      <th>36</th>\n",
       "      <td>37</td>\n",
       "      <td>https://medium.com/swlh/i-just-shut-down-my-st...</td>\n",
       "      <td>I just shut down my startup. Here’s what I lea...</td>\n",
       "      <td>NaN</td>\n",
       "      <td>37.jpeg</td>\n",
       "      <td>5900</td>\n",
       "      <td>60</td>\n",
       "      <td>16</td>\n",
       "      <td>The Startup</td>\n",
       "      <td>2019-05-30</td>\n",
       "    </tr>\n",
       "    <tr>\n",
       "      <th>37</th>\n",
       "      <td>38</td>\n",
       "      <td>https://medium.com/swlh/developers-here-is-the...</td>\n",
       "      <td>Developers — here is the most convincing reaso...</td>\n",
       "      <td>A senior dev whom I respect…</td>\n",
       "      <td>38.jpeg</td>\n",
       "      <td>4800</td>\n",
       "      <td>27</td>\n",
       "      <td>7</td>\n",
       "      <td>The Startup</td>\n",
       "      <td>2019-05-30</td>\n",
       "    </tr>\n",
       "    <tr>\n",
       "      <th>38</th>\n",
       "      <td>39</td>\n",
       "      <td>https://medium.com/swlh/how-to-retain-more-fro...</td>\n",
       "      <td>How To Retain More From The Books You Read</td>\n",
       "      <td>Making sure you get the most out of reading.</td>\n",
       "      <td>39.png</td>\n",
       "      <td>11700</td>\n",
       "      <td>58</td>\n",
       "      <td>5</td>\n",
       "      <td>The Startup</td>\n",
       "      <td>2019-05-30</td>\n",
       "    </tr>\n",
       "  </tbody>\n",
       "</table>\n",
       "</div>"
      ],
      "text/plain": [
       "    id                                                url  \\\n",
       "36  37  https://medium.com/swlh/i-just-shut-down-my-st...   \n",
       "37  38  https://medium.com/swlh/developers-here-is-the...   \n",
       "38  39  https://medium.com/swlh/how-to-retain-more-fro...   \n",
       "\n",
       "                                                title  \\\n",
       "36  I just shut down my startup. Here’s what I lea...   \n",
       "37  Developers — here is the most convincing reaso...   \n",
       "38         How To Retain More From The Books You Read   \n",
       "\n",
       "                                        subtitle    image  claps responses  \\\n",
       "36                                           NaN  37.jpeg   5900        60   \n",
       "37                  A senior dev whom I respect…  38.jpeg   4800        27   \n",
       "38  Making sure you get the most out of reading.   39.png  11700        58   \n",
       "\n",
       "    reading_time  publication       date  \n",
       "36            16  The Startup 2019-05-30  \n",
       "37             7  The Startup 2019-05-30  \n",
       "38             5  The Startup 2019-05-30  "
      ]
     },
     "execution_count": 22,
     "metadata": {},
     "output_type": "execute_result"
    }
   ],
   "source": [
    "dfabove3000claps.head(3)"
   ]
  },
  {
   "cell_type": "code",
   "execution_count": 23,
   "id": "1b8a9df9",
   "metadata": {
    "execution": {
     "iopub.execute_input": "2024-03-02T09:06:16.454056Z",
     "iopub.status.busy": "2024-03-02T09:06:16.453659Z",
     "iopub.status.idle": "2024-03-02T09:06:16.460712Z",
     "shell.execute_reply": "2024-03-02T09:06:16.459676Z"
    },
    "papermill": {
     "duration": 0.027572,
     "end_time": "2024-03-02T09:06:16.462843",
     "exception": false,
     "start_time": "2024-03-02T09:06:16.435271",
     "status": "completed"
    },
    "tags": []
   },
   "outputs": [
    {
     "data": {
      "text/plain": [
       "77"
      ]
     },
     "execution_count": 23,
     "metadata": {},
     "output_type": "execute_result"
    }
   ],
   "source": [
    "len(dfabove3000claps)"
   ]
  },
  {
   "cell_type": "code",
   "execution_count": 24,
   "id": "3e5ba913",
   "metadata": {
    "execution": {
     "iopub.execute_input": "2024-03-02T09:06:16.498094Z",
     "iopub.status.busy": "2024-03-02T09:06:16.497674Z",
     "iopub.status.idle": "2024-03-02T09:06:16.504514Z",
     "shell.execute_reply": "2024-03-02T09:06:16.503490Z"
    },
    "papermill": {
     "duration": 0.027426,
     "end_time": "2024-03-02T09:06:16.506789",
     "exception": false,
     "start_time": "2024-03-02T09:06:16.479363",
     "status": "completed"
    },
    "tags": []
   },
   "outputs": [
    {
     "data": {
      "text/plain": [
       "6508"
      ]
     },
     "execution_count": 24,
     "metadata": {},
     "output_type": "execute_result"
    }
   ],
   "source": [
    "len(medium)"
   ]
  },
  {
   "cell_type": "code",
   "execution_count": 25,
   "id": "9e80606f",
   "metadata": {
    "execution": {
     "iopub.execute_input": "2024-03-02T09:06:16.542556Z",
     "iopub.status.busy": "2024-03-02T09:06:16.542079Z",
     "iopub.status.idle": "2024-03-02T09:06:16.550021Z",
     "shell.execute_reply": "2024-03-02T09:06:16.548832Z"
    },
    "papermill": {
     "duration": 0.028877,
     "end_time": "2024-03-02T09:06:16.552259",
     "exception": false,
     "start_time": "2024-03-02T09:06:16.523382",
     "status": "completed"
    },
    "tags": []
   },
   "outputs": [
    {
     "data": {
      "text/plain": [
       "7"
      ]
     },
     "execution_count": 25,
     "metadata": {},
     "output_type": "execute_result"
    }
   ],
   "source": [
    "medium['publication'].nunique()"
   ]
  },
  {
   "cell_type": "code",
   "execution_count": 26,
   "id": "1e0927d8",
   "metadata": {
    "execution": {
     "iopub.execute_input": "2024-03-02T09:06:16.588350Z",
     "iopub.status.busy": "2024-03-02T09:06:16.587913Z",
     "iopub.status.idle": "2024-03-02T09:06:16.596513Z",
     "shell.execute_reply": "2024-03-02T09:06:16.595122Z"
    },
    "papermill": {
     "duration": 0.029575,
     "end_time": "2024-03-02T09:06:16.599116",
     "exception": false,
     "start_time": "2024-03-02T09:06:16.569541",
     "status": "completed"
    },
    "tags": []
   },
   "outputs": [
    {
     "data": {
      "text/plain": [
       "array(['Towards Data Science', 'UX Collective', 'The Startup',\n",
       "       'The Writing Cooperative', 'Data Driven Investor',\n",
       "       'Better Marketing', 'Better Humans'], dtype=object)"
      ]
     },
     "execution_count": 26,
     "metadata": {},
     "output_type": "execute_result"
    }
   ],
   "source": [
    "medium['publication'].unique()"
   ]
  },
  {
   "cell_type": "code",
   "execution_count": 27,
   "id": "8f6f2870",
   "metadata": {
    "execution": {
     "iopub.execute_input": "2024-03-02T09:06:16.635676Z",
     "iopub.status.busy": "2024-03-02T09:06:16.635232Z",
     "iopub.status.idle": "2024-03-02T09:06:16.646409Z",
     "shell.execute_reply": "2024-03-02T09:06:16.644517Z"
    },
    "papermill": {
     "duration": 0.031982,
     "end_time": "2024-03-02T09:06:16.648874",
     "exception": false,
     "start_time": "2024-03-02T09:06:16.616892",
     "status": "completed"
    },
    "tags": []
   },
   "outputs": [
    {
     "data": {
      "text/plain": [
       "publication\n",
       "The Startup                3041\n",
       "Towards Data Science       1461\n",
       "Data Driven Investor        778\n",
       "UX Collective               555\n",
       "The Writing Cooperative     403\n",
       "Better Marketing            242\n",
       "Better Humans                28\n",
       "Name: count, dtype: int64"
      ]
     },
     "execution_count": 27,
     "metadata": {},
     "output_type": "execute_result"
    }
   ],
   "source": [
    "z=medium['publication'].value_counts(sort=True)\n",
    "z"
   ]
  },
  {
   "cell_type": "code",
   "execution_count": 28,
   "id": "4ceabbef",
   "metadata": {
    "execution": {
     "iopub.execute_input": "2024-03-02T09:06:16.685971Z",
     "iopub.status.busy": "2024-03-02T09:06:16.685133Z",
     "iopub.status.idle": "2024-03-02T09:06:17.088769Z",
     "shell.execute_reply": "2024-03-02T09:06:17.087905Z"
    },
    "papermill": {
     "duration": 0.425243,
     "end_time": "2024-03-02T09:06:17.091282",
     "exception": false,
     "start_time": "2024-03-02T09:06:16.666039",
     "status": "completed"
    },
    "tags": []
   },
   "outputs": [
    {
     "data": {
      "image/png": "[encoded data removed]",
      "text/plain": [
       "<Figure size 1000x500 with 1 Axes>"
      ]
     },
     "metadata": {},
     "output_type": "display_data"
    }
   ],
   "source": [
    "z.plot(kind='bar',figsize=(10,5),color='#87A922',fontsize=15,\n",
    "       title='A chart showing the number of articles in each publication',);"
   ]
  },
  {
   "cell_type": "code",
   "execution_count": 29,
   "id": "6b7a390a",
   "metadata": {
    "execution": {
     "iopub.execute_input": "2024-03-02T09:06:17.130213Z",
     "iopub.status.busy": "2024-03-02T09:06:17.129228Z",
     "iopub.status.idle": "2024-03-02T09:06:17.149109Z",
     "shell.execute_reply": "2024-03-02T09:06:17.148105Z"
    },
    "papermill": {
     "duration": 0.042309,
     "end_time": "2024-03-02T09:06:17.151739",
     "exception": false,
     "start_time": "2024-03-02T09:06:17.109430",
     "status": "completed"
    },
    "tags": []
   },
   "outputs": [
    {
     "data": {
      "text/html": [
       "<div>\n",
       "<style scoped>\n",
       "    .dataframe tbody tr th:only-of-type {\n",
       "        vertical-align: middle;\n",
       "    }\n",
       "\n",
       "    .dataframe tbody tr th {\n",
       "        vertical-align: top;\n",
       "    }\n",
       "\n",
       "    .dataframe thead th {\n",
       "        text-align: right;\n",
       "    }\n",
       "</style>\n",
       "<table border=\"1\" class=\"dataframe\">\n",
       "  <thead>\n",
       "    <tr style=\"text-align: right;\">\n",
       "      <th></th>\n",
       "      <th>id</th>\n",
       "      <th>url</th>\n",
       "      <th>title</th>\n",
       "      <th>subtitle</th>\n",
       "      <th>image</th>\n",
       "      <th>claps</th>\n",
       "      <th>responses</th>\n",
       "      <th>reading_time</th>\n",
       "      <th>publication</th>\n",
       "      <th>date</th>\n",
       "    </tr>\n",
       "  </thead>\n",
       "  <tbody>\n",
       "    <tr>\n",
       "      <th>3977</th>\n",
       "      <td>3978</td>\n",
       "      <td>https://medium.com/datadriveninvestor/what-do-...</td>\n",
       "      <td>What do you think of the Open Group’s Data Sci...</td>\n",
       "      <td>NaN</td>\n",
       "      <td>3978.jpg</td>\n",
       "      <td>73</td>\n",
       "      <td>Read</td>\n",
       "      <td>3</td>\n",
       "      <td>Data Driven Investor</td>\n",
       "      <td>2019-05-24</td>\n",
       "    </tr>\n",
       "    <tr>\n",
       "      <th>6392</th>\n",
       "      <td>6393</td>\n",
       "      <td>https://uxdesign.cc/please-please-please-tell-...</td>\n",
       "      <td>UX doesn’t discriminate, it targets behaviours</td>\n",
       "      <td>NaN</td>\n",
       "      <td>NaN</td>\n",
       "      <td>74</td>\n",
       "      <td>Read</td>\n",
       "      <td>5</td>\n",
       "      <td>UX Collective</td>\n",
       "      <td>2019-12-05</td>\n",
       "    </tr>\n",
       "  </tbody>\n",
       "</table>\n",
       "</div>"
      ],
      "text/plain": [
       "        id                                                url  \\\n",
       "3977  3978  https://medium.com/datadriveninvestor/what-do-...   \n",
       "6392  6393  https://uxdesign.cc/please-please-please-tell-...   \n",
       "\n",
       "                                                  title subtitle     image  \\\n",
       "3977  What do you think of the Open Group’s Data Sci...      NaN  3978.jpg   \n",
       "6392     UX doesn’t discriminate, it targets behaviours      NaN       NaN   \n",
       "\n",
       "      claps responses  reading_time           publication       date  \n",
       "3977     73      Read             3  Data Driven Investor 2019-05-24  \n",
       "6392     74      Read             5         UX Collective 2019-12-05  "
      ]
     },
     "execution_count": 29,
     "metadata": {},
     "output_type": "execute_result"
    }
   ],
   "source": [
    "medium.query(\"responses=='Read'\")"
   ]
  },
  {
   "cell_type": "code",
   "execution_count": 30,
   "id": "34dc6dc9",
   "metadata": {
    "execution": {
     "iopub.execute_input": "2024-03-02T09:06:17.191166Z",
     "iopub.status.busy": "2024-03-02T09:06:17.190747Z",
     "iopub.status.idle": "2024-03-02T09:06:17.198253Z",
     "shell.execute_reply": "2024-03-02T09:06:17.197258Z"
    },
    "papermill": {
     "duration": 0.029884,
     "end_time": "2024-03-02T09:06:17.200674",
     "exception": false,
     "start_time": "2024-03-02T09:06:17.170790",
     "status": "completed"
    },
    "tags": []
   },
   "outputs": [],
   "source": [
    "medium['responses'].replace(\"Read\",0,inplace = True)"
   ]
  },
  {
   "cell_type": "markdown",
   "id": "2bf5f4ee",
   "metadata": {
    "papermill": {
     "duration": 0.017999,
     "end_time": "2024-03-02T09:06:17.237276",
     "exception": false,
     "start_time": "2024-03-02T09:06:17.219277",
     "status": "completed"
    },
    "tags": []
   },
   "source": [
    "## Top 5 Medium publications by the total reading minutes"
   ]
  },
  {
   "cell_type": "code",
   "execution_count": 31,
   "id": "62890463",
   "metadata": {
    "execution": {
     "iopub.execute_input": "2024-03-02T09:06:17.276684Z",
     "iopub.status.busy": "2024-03-02T09:06:17.275888Z",
     "iopub.status.idle": "2024-03-02T09:06:17.283313Z",
     "shell.execute_reply": "2024-03-02T09:06:17.282417Z"
    },
    "papermill": {
     "duration": 0.030297,
     "end_time": "2024-03-02T09:06:17.285883",
     "exception": false,
     "start_time": "2024-03-02T09:06:17.255586",
     "status": "completed"
    },
    "tags": []
   },
   "outputs": [],
   "source": [
    "readmin = medium.groupby('publication')['reading_time'].sum().sort_values(ascending=False)[:5]"
   ]
  },
  {
   "cell_type": "code",
   "execution_count": 32,
   "id": "810b4851",
   "metadata": {
    "execution": {
     "iopub.execute_input": "2024-03-02T09:06:17.327307Z",
     "iopub.status.busy": "2024-03-02T09:06:17.326005Z",
     "iopub.status.idle": "2024-03-02T09:06:17.640305Z",
     "shell.execute_reply": "2024-03-02T09:06:17.639171Z"
    },
    "papermill": {
     "duration": 0.338773,
     "end_time": "2024-03-02T09:06:17.643204",
     "exception": false,
     "start_time": "2024-03-02T09:06:17.304431",
     "status": "completed"
    },
    "tags": []
   },
   "outputs": [
    {
     "data": {
      "image/png": "[encoded data removed]",
      "text/plain": [
       "<Figure size 1000x1200 with 1 Axes>"
      ]
     },
     "metadata": {},
     "output_type": "display_data"
    }
   ],
   "source": [
    "readmin.plot.pie(figsize=(10,12),colors=['#FAA300','green','crimson','#452276','#FBA834'],\n",
    "                 autopct='%1.1f%%')\n",
    "plt.title('Medium publications by the total number of reading minutes',\n",
    "          fontdict={'fontsize':15,'fontweight':'bold'});"
   ]
  }
 ],
 "metadata": {
  "kaggle": {
   "accelerator": "none",
   "dataSources": [
    {
     "datasetId": 748442,
     "sourceId": 1294572,
     "sourceType": "datasetVersion"
    }
   ],
   "dockerImageVersionId": 30626,
   "isGpuEnabled": false,
   "isInternetEnabled": true,
   "language": "python",
   "sourceType": "notebook"
  },
  "kernelspec": {
   "display_name": "Python 3",
   "language": "python",
   "name": "python3"
  },
  "language_info": {
   "codemirror_mode": {
    "name": "ipython",
    "version": 3
   },
   "file_extension": ".py",
   "mimetype": "text/x-python",
   "name": "python",
   "nbconvert_exporter": "python",
   "pygments_lexer": "ipython3",
   "version": "3.10.12"
  },
  "papermill": {
   "default_parameters": {},
   "duration": 10.559402,
   "end_time": "2024-03-02T09:06:18.283428",
   "environment_variables": {},
   "exception": null,
   "input_path": "__notebook__.ipynb",
   "output_path": "__notebook__.ipynb",
   "parameters": {},
   "start_time": "2024-03-02T09:06:07.724026",
   "version": "2.4.0"
  }
 },
 "nbformat": 4,
 "nbformat_minor": 5
}
